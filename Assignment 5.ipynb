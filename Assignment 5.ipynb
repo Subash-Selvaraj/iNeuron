{
 "cells": [
  {
   "cell_type": "markdown",
   "id": "2eeb527a",
   "metadata": {},
   "source": [
    "#### 1.\tWrite a Python Program to Find LCM?"
   ]
  },
  {
   "cell_type": "code",
   "execution_count": 11,
   "id": "a8e68c7f",
   "metadata": {},
   "outputs": [
    {
     "name": "stdout",
     "output_type": "stream",
     "text": [
      "Enter the a value 12\n",
      "Enter the b value 46\n"
     ]
    },
    {
     "data": {
      "text/plain": [
       "276"
      ]
     },
     "execution_count": 11,
     "metadata": {},
     "output_type": "execute_result"
    }
   ],
   "source": [
    "#LCM=Least common Multiple(that means மிக சிறிய மடங்கு=மி.சி.ம)\n",
    "#least multiple number of given numbers is called as lcm\n",
    "a = int(input(\"Enter the a value \"))\n",
    "b = int(input(\"Enter the b value \"))\n",
    "def lcm(a,b):\n",
    "    if a>b:\n",
    "        maximum = a\n",
    "    else:\n",
    "        maximum = b\n",
    "    while True:\n",
    "        if(maximum%a==0 and maximum%b==0):\n",
    "            LCM = maximum\n",
    "            break\n",
    "        maximum+=1\n",
    "    return LCM\n",
    "lcm(a,b)"
   ]
  },
  {
   "cell_type": "markdown",
   "id": "66d72e6a",
   "metadata": {},
   "source": [
    "#### 2.\tWrite a Python Program to Find HCF?"
   ]
  },
  {
   "cell_type": "code",
   "execution_count": 26,
   "id": "2018ce6e",
   "metadata": {},
   "outputs": [
    {
     "name": "stdout",
     "output_type": "stream",
     "text": [
      "Enter the c value 26\n",
      "Enter the d value 56\n",
      "2\n"
     ]
    }
   ],
   "source": [
    "#Highest common fraction(that means=மீ.பெ.வ)\n",
    "#highest common divisible of given numbers is called HCM/GCD-greates common divisor\n",
    "c = int(input(\"Enter the c value \"))\n",
    "d = int(input(\"Enter the d value \"))\n",
    "if c<d:\n",
    "    minimum = c\n",
    "else:\n",
    "    minimum = d\n",
    "while minimum>=2:\n",
    "    if(c%minimum==0 and d%minimum==0):\n",
    "        HCM=minimum\n",
    "        break\n",
    "    minimum-=1\n",
    "print(HCM)"
   ]
  },
  {
   "cell_type": "markdown",
   "id": "6d553db6",
   "metadata": {},
   "source": [
    "####  3.\tWrite a Python Program to Convert Decimal to Binary, Octal and Hexadecimal?"
   ]
  },
  {
   "cell_type": "code",
   "execution_count": 45,
   "id": "f2095857",
   "metadata": {},
   "outputs": [
    {
     "name": "stdout",
     "output_type": "stream",
     "text": [
      "344\n",
      "The decimal value of 344 is:\n",
      "158None in binary.\n",
      "0o530 in octal.\n",
      "0x158 in hexadecimal.\n"
     ]
    }
   ],
   "source": [
    "# Python program to convert decimal into other number systems\n",
    "dec = int(input())\n",
    "\n",
    "print(\"The decimal value of\", dec, \"is:\")\n",
    "print(bin(dec), \"in binary.\")\n",
    "print(oct(dec), \"in octal.\")\n",
    "print(hex(dec), \"in hexadecimal.\")"
   ]
  },
  {
   "cell_type": "markdown",
   "id": "a3fa33a3",
   "metadata": {},
   "source": [
    "#### 4.\tWrite a Python Program To Find ASCII value of a character? "
   ]
  },
  {
   "cell_type": "code",
   "execution_count": 56,
   "id": "76863673",
   "metadata": {},
   "outputs": [
    {
     "name": "stdout",
     "output_type": "stream",
     "text": [
      "o\n"
     ]
    },
    {
     "data": {
      "text/plain": [
       "111"
      ]
     },
     "execution_count": 56,
     "metadata": {},
     "output_type": "execute_result"
    }
   ],
   "source": [
    "n = input()\n",
    "def aschii(n):\n",
    "    ASCHII=ord(n)\n",
    "    return ASCHII\n",
    "aschii(n)"
   ]
  },
  {
   "cell_type": "markdown",
   "id": "fed04499",
   "metadata": {},
   "source": [
    "####  5.\tWrite a Python Program to Make a Simple Calculator with 4 basic mathematical operations?\n"
   ]
  },
  {
   "cell_type": "code",
   "execution_count": 59,
   "id": "d67cc873",
   "metadata": {},
   "outputs": [
    {
     "name": "stdout",
     "output_type": "stream",
     "text": [
      "Please select the operation.\n",
      "a. Add\n",
      "b. Subtract\n",
      "c. Multiply\n",
      "d. Divide\n",
      "Please enter choice (a/ b/ c/ d): a\n",
      "Please enter the first number: 2\n",
      "Please enter the second number: 3\n",
      "2  +  3  =  5\n"
     ]
    }
   ],
   "source": [
    "def add(P, Q):\n",
    "    return P + Q   \n",
    "def subtract(P, Q):   \n",
    "    return P - Q   \n",
    "def multiply(P, Q):   \n",
    "    return P * Q   \n",
    "def divide(P, Q):   \n",
    "    return P / Q    \n",
    "print (\"Please select the operation.\")    \n",
    "print (\"a. Add\")    \n",
    "print (\"b. Subtract\")    \n",
    "print (\"c. Multiply\")    \n",
    "print (\"d. Divide\")    \n",
    "choice = input(\"Please enter choice (a/ b/ c/ d): \")    \n",
    "num_1 = int (input (\"Please enter the first number: \"))    \n",
    "num_2 = int (input (\"Please enter the second number: \"))    \n",
    "if choice == 'a':    \n",
    "    print (num_1, \" + \", num_2, \" = \", add(num_1, num_2))    \n",
    "    \n",
    "elif choice == 'b':    \n",
    "    print (num_1, \" - \", num_2, \" = \", subtract(num_1, num_2))    \n",
    "    \n",
    "elif choice == 'c':    \n",
    "    print (num1, \" * \", num2, \" = \", multiply(num1, num2))    \n",
    "elif choice == 'd':    \n",
    "    print (num_1, \" / \", num_2, \" = \", divide(num_1, num_2))    \n",
    "else:    \n",
    "    print (\"This is an invalid input\")"
   ]
  },
  {
   "cell_type": "code",
   "execution_count": null,
   "id": "7f486610",
   "metadata": {},
   "outputs": [],
   "source": []
  },
  {
   "cell_type": "code",
   "execution_count": null,
   "id": "ee29afe7",
   "metadata": {},
   "outputs": [],
   "source": []
  }
 ],
 "metadata": {
  "kernelspec": {
   "display_name": "Python 3 (ipykernel)",
   "language": "python",
   "name": "python3"
  },
  "language_info": {
   "codemirror_mode": {
    "name": "ipython",
    "version": 3
   },
   "file_extension": ".py",
   "mimetype": "text/x-python",
   "name": "python",
   "nbconvert_exporter": "python",
   "pygments_lexer": "ipython3",
   "version": "3.9.12"
  }
 },
 "nbformat": 4,
 "nbformat_minor": 5
}
