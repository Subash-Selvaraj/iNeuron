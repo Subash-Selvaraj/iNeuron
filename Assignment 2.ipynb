{
 "cells": [
  {
   "cell_type": "markdown",
   "id": "c1a43d7e",
   "metadata": {},
   "source": [
    "#### 1.\tWrite a Python program to convert kilometers to miles?"
   ]
  },
  {
   "cell_type": "code",
   "execution_count": 3,
   "id": "8787aeaa",
   "metadata": {},
   "outputs": [
    {
     "name": "stdout",
     "output_type": "stream",
     "text": [
      "10\n"
     ]
    },
    {
     "data": {
      "text/plain": [
       "6.21371"
      ]
     },
     "execution_count": 3,
     "metadata": {},
     "output_type": "execute_result"
    }
   ],
   "source": [
    "#def function\n",
    "def miles(k):\n",
    "    convertion = 0.621371\n",
    "    mile = k*convertion\n",
    "    return mile\n",
    "km = float(input())\n",
    "miles(km)"
   ]
  },
  {
   "cell_type": "markdown",
   "id": "620f63f8",
   "metadata": {},
   "source": [
    "#### 2.\tWrite a Python program to convert Celsius to Fahrenheit?"
   ]
  },
  {
   "cell_type": "code",
   "execution_count": 8,
   "id": "df5e843e",
   "metadata": {},
   "outputs": [
    {
     "name": "stdout",
     "output_type": "stream",
     "text": [
      "Enter the Celsius : 23\n",
      "Fahrenheit of  23.0 is 73.4\n"
     ]
    }
   ],
   "source": [
    "#cel to Fahrenheit formula is fahrenheit = (celsius*1.8)+32 or \n",
    "def fahrenheit(cel):\n",
    "    #conversion\n",
    "    fahern = (cel*1.8)+32\n",
    "    return fahern\n",
    "celsius = float(input(\"Enter the Celsius : \"))\n",
    "print(\"Fahrenheit of \",celsius,\"is\",fahrenheit(celsius))"
   ]
  },
  {
   "cell_type": "markdown",
   "id": "89263e06",
   "metadata": {},
   "source": [
    "#### 3.\tWrite a Python program to display calendar?"
   ]
  },
  {
   "cell_type": "code",
   "execution_count": 47,
   "id": "5928da8f",
   "metadata": {},
   "outputs": [
    {
     "name": "stdout",
     "output_type": "stream",
     "text": [
      "2022\n",
      "2\n",
      "   February 2022\n",
      "Mo Tu We Th Fr Sa Su\n",
      "    1  2  3  4  5  6\n",
      " 7  8  9 10 11 12 13\n",
      "14 15 16 17 18 19 20\n",
      "21 22 23 24 25 26 27\n",
      "28\n",
      "\n"
     ]
    }
   ],
   "source": [
    "import calendar\n",
    "yy = int(input())\n",
    "mm = int(input())\n",
    "mon = calendar.month(yy,mm)\n",
    "print(mon)"
   ]
  },
  {
   "cell_type": "code",
   "execution_count": 48,
   "id": "3eb12112",
   "metadata": {},
   "outputs": [
    {
     "name": "stdout",
     "output_type": "stream",
     "text": [
      "2022\n",
      "                                  2022\n",
      "\n",
      "      January                   February                   March\n",
      "Mo Tu We Th Fr Sa Su      Mo Tu We Th Fr Sa Su      Mo Tu We Th Fr Sa Su\n",
      "                1  2          1  2  3  4  5  6          1  2  3  4  5  6\n",
      " 3  4  5  6  7  8  9       7  8  9 10 11 12 13       7  8  9 10 11 12 13\n",
      "10 11 12 13 14 15 16      14 15 16 17 18 19 20      14 15 16 17 18 19 20\n",
      "17 18 19 20 21 22 23      21 22 23 24 25 26 27      21 22 23 24 25 26 27\n",
      "24 25 26 27 28 29 30      28                        28 29 30 31\n",
      "31\n",
      "\n",
      "       April                      May                       June\n",
      "Mo Tu We Th Fr Sa Su      Mo Tu We Th Fr Sa Su      Mo Tu We Th Fr Sa Su\n",
      "             1  2  3                         1             1  2  3  4  5\n",
      " 4  5  6  7  8  9 10       2  3  4  5  6  7  8       6  7  8  9 10 11 12\n",
      "11 12 13 14 15 16 17       9 10 11 12 13 14 15      13 14 15 16 17 18 19\n",
      "18 19 20 21 22 23 24      16 17 18 19 20 21 22      20 21 22 23 24 25 26\n",
      "25 26 27 28 29 30         23 24 25 26 27 28 29      27 28 29 30\n",
      "                          30 31\n",
      "\n",
      "        July                     August                  September\n",
      "Mo Tu We Th Fr Sa Su      Mo Tu We Th Fr Sa Su      Mo Tu We Th Fr Sa Su\n",
      "             1  2  3       1  2  3  4  5  6  7                1  2  3  4\n",
      " 4  5  6  7  8  9 10       8  9 10 11 12 13 14       5  6  7  8  9 10 11\n",
      "11 12 13 14 15 16 17      15 16 17 18 19 20 21      12 13 14 15 16 17 18\n",
      "18 19 20 21 22 23 24      22 23 24 25 26 27 28      19 20 21 22 23 24 25\n",
      "25 26 27 28 29 30 31      29 30 31                  26 27 28 29 30\n",
      "\n",
      "      October                   November                  December\n",
      "Mo Tu We Th Fr Sa Su      Mo Tu We Th Fr Sa Su      Mo Tu We Th Fr Sa Su\n",
      "                1  2          1  2  3  4  5  6                1  2  3  4\n",
      " 3  4  5  6  7  8  9       7  8  9 10 11 12 13       5  6  7  8  9 10 11\n",
      "10 11 12 13 14 15 16      14 15 16 17 18 19 20      12 13 14 15 16 17 18\n",
      "17 18 19 20 21 22 23      21 22 23 24 25 26 27      19 20 21 22 23 24 25\n",
      "24 25 26 27 28 29 30      28 29 30                  26 27 28 29 30 31\n",
      "31\n",
      "\n"
     ]
    }
   ],
   "source": [
    "yy = int(input())\n",
    "cal = calendar.calendar(yy)\n",
    "print(cal)"
   ]
  },
  {
   "cell_type": "markdown",
   "id": "1d2665c5",
   "metadata": {},
   "source": [
    "#### 4.\tWrite a Python program to solve quadratic equation?"
   ]
  },
  {
   "cell_type": "code",
   "execution_count": 31,
   "id": "f1f36399",
   "metadata": {},
   "outputs": [
    {
     "name": "stdout",
     "output_type": "stream",
     "text": [
      "Enter a value 1\n",
      "Enter b value 8\n",
      "Enter c value 9\n"
     ]
    },
    {
     "data": {
      "text/plain": [
       "((-1.3542486889354093+0j), (-6.645751311064591+0j))"
      ]
     },
     "execution_count": 31,
     "metadata": {},
     "output_type": "execute_result"
    }
   ],
   "source": [
    "#quadratic equation is ax^2+bx+c=0\n",
    "import cmath\n",
    "def quad(a,b,c):\n",
    "    rootcal= (b**2)-(4*a*c)\n",
    "    poscal = (-b+cmath.sqrt(rootcal))/(2*a)\n",
    "    negcal = (-b-cmath.sqrt(rootcal))/(2*a)\n",
    "    return poscal,negcal\n",
    "d=float(input(\"Enter a value \"))\n",
    "e=float(input(\"Enter b value \"))\n",
    "f=float(input(\"Enter c value \"))\n",
    "quad(d,e,f)"
   ]
  },
  {
   "cell_type": "markdown",
   "id": "0338d1c9",
   "metadata": {},
   "source": [
    "#### 5.\tWrite a Python program to swap two variables without temp variable?"
   ]
  },
  {
   "cell_type": "code",
   "execution_count": 43,
   "id": "6ec75d5b",
   "metadata": {},
   "outputs": [
    {
     "name": "stdout",
     "output_type": "stream",
     "text": [
      "Enter a Value 71\n",
      "Enter b Value 96\n"
     ]
    },
    {
     "data": {
      "text/plain": [
       "('After swap a value is 96.0', 'After swap b value is 71.0')"
      ]
     },
     "execution_count": 43,
     "metadata": {},
     "output_type": "execute_result"
    }
   ],
   "source": [
    "def swaping(a,b):\n",
    "    a = a+b #a value is changed to(8+7=15)\n",
    "    b = a-b#here b value is changed to 7 as a value(because a value is 15 now so 15-8(b-value)= 7\n",
    "    a = a-b# here a value is change from 15 to 8(15-7(bvalue now)=8)\n",
    "    return \"After swap a value is \"+str(a),\"After swap b value is \"+str(b)\n",
    "c = float(input(\"Enter a Value \"))\n",
    "d = float(input(\"Enter b Value \"))\n",
    "swaping(c,d)"
   ]
  },
  {
   "cell_type": "code",
   "execution_count": null,
   "id": "f15a9c83",
   "metadata": {},
   "outputs": [],
   "source": []
  }
 ],
 "metadata": {
  "kernelspec": {
   "display_name": "Python 3 (ipykernel)",
   "language": "python",
   "name": "python3"
  },
  "language_info": {
   "codemirror_mode": {
    "name": "ipython",
    "version": 3
   },
   "file_extension": ".py",
   "mimetype": "text/x-python",
   "name": "python",
   "nbconvert_exporter": "python",
   "pygments_lexer": "ipython3",
   "version": "3.9.12"
  }
 },
 "nbformat": 4,
 "nbformat_minor": 5
}
