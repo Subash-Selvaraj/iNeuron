{
 "cells": [
  {
   "cell_type": "markdown",
   "id": "b5a724fa",
   "metadata": {},
   "source": [
    "## 1.\tWrite a Python Program to find sum of array?"
   ]
  },
  {
   "cell_type": "code",
   "execution_count": 5,
   "id": "2d618ffe",
   "metadata": {},
   "outputs": [
    {
     "name": "stdout",
     "output_type": "stream",
     "text": [
      "Enter the length of the element 6\n",
      "Enter the values of the array 1\n",
      "Enter the values of the array 63\n",
      "Enter the values of the array 54\n",
      "Enter the values of the array 89\n",
      "Enter the values of the array 7\n",
      "Enter the values of the array 45\n",
      "Array values is  [ 1 63 54 89  7 45]\n",
      "The sum of the array is  259\n"
     ]
    }
   ],
   "source": [
    "import numpy as np\n",
    "length = int(input(\"Enter the length of the element \"))\n",
    "l = []\n",
    "for i in range(length):\n",
    "    values = int(input('Enter the values of the array '))\n",
    "    l.append(values)\n",
    "arr = np.array(l)\n",
    "print(\"Array values is \",arr)\n",
    "print(\"The sum of the array is \",arr.sum())"
   ]
  },
  {
   "cell_type": "markdown",
   "id": "cd2543a1",
   "metadata": {},
   "source": [
    "##  2.\tWrite a Python Program to find largest element in an array?"
   ]
  },
  {
   "cell_type": "code",
   "execution_count": 23,
   "id": "f10f5416",
   "metadata": {},
   "outputs": [
    {
     "name": "stdout",
     "output_type": "stream",
     "text": [
      "Enter the length of the element 5\n",
      "Enter the values of the array 288\n",
      "Enter the values of the array 399\n",
      "Enter the values of the array 499\n",
      "Enter the values of the array 599\n",
      "Enter the values of the array 699\n",
      "The largest Number of the given array is 699\n"
     ]
    }
   ],
   "source": [
    "length1 = int(input(\"Enter the length of the element \"))\n",
    "l1 = []\n",
    "for i in range(length1):\n",
    "    values1 = int(input('Enter the values of the array '))\n",
    "    l1.append(values1)\n",
    "arr1 = np.array(l1)\n",
    "#print('The largest number of given array is ',arr.max())\n",
    "\n",
    "#==========================================or=================================================\n",
    "max=arr1[0]\n",
    "for j in range(0,len(arr1)):\n",
    "    if (arr1[j]>max):\n",
    "        max = arr1[j]\n",
    "print('The largest Number of the given array is',max)"
   ]
  },
  {
   "cell_type": "markdown",
   "id": "e577d06d",
   "metadata": {},
   "source": [
    "## 3.\tWrite a Python Program for array rotation?"
   ]
  },
  {
   "cell_type": "code",
   "execution_count": 34,
   "id": "bacc18f9",
   "metadata": {},
   "outputs": [
    {
     "name": "stdout",
     "output_type": "stream",
     "text": [
      "[288 399 499 599 699]\n",
      "The rotation of the array is  [699 599 499 399 288]\n"
     ]
    }
   ],
   "source": [
    "print(arr1)\n",
    "print('The rotation of the array is ',arr1[::-1])"
   ]
  },
  {
   "cell_type": "markdown",
   "id": "75f800d5",
   "metadata": {},
   "source": [
    "## 4.\tWrite a Python Program to Split the array and add the first part to the end?"
   ]
  },
  {
   "cell_type": "code",
   "execution_count": 57,
   "id": "e6e654c3",
   "metadata": {},
   "outputs": [
    {
     "name": "stdout",
     "output_type": "stream",
     "text": [
      "Enter the position of the element to get split 1\n"
     ]
    },
    {
     "data": {
      "text/plain": [
       "[10, 5, 6, 52, 36, 12]"
      ]
     },
     "execution_count": 57,
     "metadata": {},
     "output_type": "execute_result"
    }
   ],
   "source": [
    "arr2 = [12, 10, 5, 6, 52, 36]\n",
    "pos = int(input(\"Enter the position of the element to get split \"))\n",
    "def array_change(arr2):\n",
    "    new_arr2 = arr2[pos:]+arr2[:pos]\n",
    "    return new_arr2\n",
    "array_change(arr2)"
   ]
  },
  {
   "cell_type": "markdown",
   "id": "6fde6a52",
   "metadata": {},
   "source": [
    "##  5.\tWrite a Python Program to check if given array is Monotonic?"
   ]
  },
  {
   "cell_type": "code",
   "execution_count": 63,
   "id": "1ce18e93",
   "metadata": {},
   "outputs": [
    {
     "name": "stdout",
     "output_type": "stream",
     "text": [
      "False\n"
     ]
    }
   ],
   "source": [
    "arr3=[1,1,2,1]\n",
    "def isMonotonic(A):\n",
    "    return (all(A[i] <= A[i + 1] for i in range(len(A) - 1)) or\n",
    "            all(A[i] >= A[i + 1] for i in range(len(A) - 1)))\n",
    "  \n",
    "print(isMonotonic(arr3))"
   ]
  }
 ],
 "metadata": {
  "kernelspec": {
   "display_name": "Python 3 (ipykernel)",
   "language": "python",
   "name": "python3"
  },
  "language_info": {
   "codemirror_mode": {
    "name": "ipython",
    "version": 3
   },
   "file_extension": ".py",
   "mimetype": "text/x-python",
   "name": "python",
   "nbconvert_exporter": "python",
   "pygments_lexer": "ipython3",
   "version": "3.9.12"
  }
 },
 "nbformat": 4,
 "nbformat_minor": 5
}
