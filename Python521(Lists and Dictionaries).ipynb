{
 "cells": [
  {
   "cell_type": "code",
   "execution_count": 2,
   "id": "33501794",
   "metadata": {},
   "outputs": [],
   "source": [
    "#list indexing\n",
    "l1 = [1,2,3,4,5]\n",
    "l2 = [23,5,6,2,5]\n",
    "l3 =[6,8,3,6,8]"
   ]
  },
  {
   "cell_type": "code",
   "execution_count": 3,
   "id": "216cd686",
   "metadata": {},
   "outputs": [
    {
     "data": {
      "text/plain": [
       "[5, 4, 3, 2, 1]"
      ]
     },
     "execution_count": 3,
     "metadata": {},
     "output_type": "execute_result"
    }
   ],
   "source": [
    "#reverse\n",
    "l1.reverse()\n",
    "l1"
   ]
  },
  {
   "cell_type": "code",
   "execution_count": 4,
   "id": "9545bf4b",
   "metadata": {},
   "outputs": [
    {
     "data": {
      "text/plain": [
       "[5, 4, 3, 2, 1]"
      ]
     },
     "execution_count": 4,
     "metadata": {},
     "output_type": "execute_result"
    }
   ],
   "source": [
    "\n",
    "l1"
   ]
  },
  {
   "cell_type": "code",
   "execution_count": 5,
   "id": "c5529b8c",
   "metadata": {},
   "outputs": [],
   "source": [
    "l4=[l1,l2,l3]"
   ]
  },
  {
   "cell_type": "code",
   "execution_count": 6,
   "id": "bb27bb93",
   "metadata": {},
   "outputs": [
    {
     "data": {
      "text/plain": [
       "[[5, 4, 3, 2, 1], [23, 5, 6, 2, 5], [6, 8, 3, 6, 8]]"
      ]
     },
     "execution_count": 6,
     "metadata": {},
     "output_type": "execute_result"
    }
   ],
   "source": [
    "l4"
   ]
  },
  {
   "cell_type": "code",
   "execution_count": 7,
   "id": "550cafed",
   "metadata": {},
   "outputs": [
    {
     "data": {
      "text/plain": [
       "[[6, 8, 3, 6, 8], [23, 5, 6, 2, 5], [5, 4, 3, 2, 1]]"
      ]
     },
     "execution_count": 7,
     "metadata": {},
     "output_type": "execute_result"
    }
   ],
   "source": [
    "l4.reverse()\n",
    "l4"
   ]
  },
  {
   "cell_type": "code",
   "execution_count": 8,
   "id": "f2ed8b80",
   "metadata": {},
   "outputs": [
    {
     "data": {
      "text/plain": [
       "[[6, 8, 3, 6, 8], [23, 5, 6, 2, 5], [5, 4, 3, 2, 1]]"
      ]
     },
     "execution_count": 8,
     "metadata": {},
     "output_type": "execute_result"
    }
   ],
   "source": [
    "l4"
   ]
  },
  {
   "cell_type": "code",
   "execution_count": 12,
   "id": "5eb31636",
   "metadata": {},
   "outputs": [
    {
     "data": {
      "text/plain": [
       "8"
      ]
     },
     "execution_count": 12,
     "metadata": {},
     "output_type": "execute_result"
    }
   ],
   "source": [
    "#take the last elament 8 in the list inside the list\n",
    "l4[0][4]"
   ]
  },
  {
   "cell_type": "code",
   "execution_count": 44,
   "id": "6662181f",
   "metadata": {},
   "outputs": [
    {
     "data": {
      "text/plain": [
       "1"
      ]
     },
     "execution_count": 44,
     "metadata": {},
     "output_type": "execute_result"
    }
   ],
   "source": [
    "#count\n",
    "l1.count(1)"
   ]
  },
  {
   "cell_type": "code",
   "execution_count": 45,
   "id": "a347b70e",
   "metadata": {},
   "outputs": [
    {
     "data": {
      "text/plain": [
       "0"
      ]
     },
     "execution_count": 45,
     "metadata": {},
     "output_type": "execute_result"
    }
   ],
   "source": [
    "#find the count of int in list inside the list\n",
    "l4.count(3) #zero will answer"
   ]
  },
  {
   "cell_type": "code",
   "execution_count": 46,
   "id": "3635a265",
   "metadata": {},
   "outputs": [
    {
     "data": {
      "text/plain": [
       "[1, 2, 3, 4, 5, ['subash', 4, 6, 2, 'sub', [1, 2, 34]]]"
      ]
     },
     "execution_count": 46,
     "metadata": {},
     "output_type": "execute_result"
    }
   ],
   "source": [
    "#append\n",
    "lst =['subash',4,6,2,'sub',[1,2,34]]\n",
    "l1.append(lst)\n",
    "l1"
   ]
  },
  {
   "cell_type": "code",
   "execution_count": 47,
   "id": "756361a0",
   "metadata": {},
   "outputs": [],
   "source": [
    "#append the string inside the\n",
    "lst.append(\"mack\")"
   ]
  },
  {
   "cell_type": "code",
   "execution_count": 48,
   "id": "270b9362",
   "metadata": {},
   "outputs": [
    {
     "data": {
      "text/plain": [
       "['subash', 4, 6, 2, 'sub', [1, 2, 34], 'mack']"
      ]
     },
     "execution_count": 48,
     "metadata": {},
     "output_type": "execute_result"
    }
   ],
   "source": [
    "lst"
   ]
  },
  {
   "cell_type": "code",
   "execution_count": 49,
   "id": "9f939abd",
   "metadata": {},
   "outputs": [],
   "source": [
    "l1.append(lst)"
   ]
  },
  {
   "cell_type": "code",
   "execution_count": 50,
   "id": "01f1bf10",
   "metadata": {},
   "outputs": [
    {
     "data": {
      "text/plain": [
       "['subash', 4, 6, 2, 'sub', [1, 2, 34], 'mack']"
      ]
     },
     "execution_count": 50,
     "metadata": {},
     "output_type": "execute_result"
    }
   ],
   "source": [
    "lst"
   ]
  },
  {
   "cell_type": "code",
   "execution_count": 51,
   "id": "d10a951d",
   "metadata": {},
   "outputs": [
    {
     "ename": "TypeError",
     "evalue": "'int' object is not iterable",
     "output_type": "error",
     "traceback": [
      "\u001b[1;31m---------------------------------------------------------------------------\u001b[0m",
      "\u001b[1;31mTypeError\u001b[0m                                 Traceback (most recent call last)",
      "Input \u001b[1;32mIn [51]\u001b[0m, in \u001b[0;36m<cell line: 3>\u001b[1;34m()\u001b[0m\n\u001b[0;32m      1\u001b[0m \u001b[38;5;66;03m#extend function\u001b[39;00m\n\u001b[0;32m      2\u001b[0m \u001b[38;5;66;03m#we can't extend the list by using integers\u001b[39;00m\n\u001b[1;32m----> 3\u001b[0m \u001b[43mlst\u001b[49m\u001b[38;5;241;43m.\u001b[39;49m\u001b[43mextend\u001b[49m\u001b[43m(\u001b[49m\u001b[38;5;241;43m45\u001b[39;49m\u001b[43m)\u001b[49m\n",
      "\u001b[1;31mTypeError\u001b[0m: 'int' object is not iterable"
     ]
    }
   ],
   "source": [
    "#extend function\n",
    "#we can't extend the list by using integers\n",
    "lst.extend(45)"
   ]
  },
  {
   "cell_type": "code",
   "execution_count": 52,
   "id": "84754f53",
   "metadata": {},
   "outputs": [],
   "source": [
    "#we can extend the str in list\n",
    "lst.extend('Mcas')"
   ]
  },
  {
   "cell_type": "code",
   "execution_count": 53,
   "id": "2adef40d",
   "metadata": {},
   "outputs": [
    {
     "data": {
      "text/plain": [
       "['subash', 4, 6, 2, 'sub', [1, 2, 34], 'mack', 'M', 'c', 'a', 's']"
      ]
     },
     "execution_count": 53,
     "metadata": {},
     "output_type": "execute_result"
    }
   ],
   "source": [
    "lst"
   ]
  },
  {
   "cell_type": "code",
   "execution_count": 54,
   "id": "42316e53",
   "metadata": {},
   "outputs": [
    {
     "data": {
      "text/plain": [
       "['subash',\n",
       " 4,\n",
       " 6,\n",
       " 2,\n",
       " 'sub',\n",
       " [1, 2, 34],\n",
       " 'mack',\n",
       " 'M',\n",
       " 'c',\n",
       " 'a',\n",
       " 's',\n",
       " 89,\n",
       " 78,\n",
       " 62,\n",
       " 48]"
      ]
     },
     "execution_count": 54,
     "metadata": {},
     "output_type": "execute_result"
    }
   ],
   "source": [
    "#we can extend the list by using the list\n",
    "lst.extend([89,78,62,48])\n",
    "lst # it will iterate the list and extend the list in one by one value in the list"
   ]
  },
  {
   "cell_type": "code",
   "execution_count": 55,
   "id": "3b141239",
   "metadata": {},
   "outputs": [
    {
     "data": {
      "text/plain": [
       "11"
      ]
     },
     "execution_count": 55,
     "metadata": {},
     "output_type": "execute_result"
    }
   ],
   "source": [
    "#index function\n",
    "#it will print the given value index\n",
    "lst.index(89)"
   ]
  },
  {
   "cell_type": "code",
   "execution_count": 60,
   "id": "9ffb771f",
   "metadata": {},
   "outputs": [
    {
     "data": {
      "text/plain": [
       "1"
      ]
     },
     "execution_count": 60,
     "metadata": {},
     "output_type": "execute_result"
    }
   ],
   "source": [
    "lst1 =[90,80,92,13,30]\n",
    "lst1.index(80)"
   ]
  },
  {
   "cell_type": "code",
   "execution_count": 68,
   "id": "cf2ac82f",
   "metadata": {},
   "outputs": [
    {
     "data": {
      "text/plain": [
       "[1, 2, 3, 4, 5, 'sub']"
      ]
     },
     "execution_count": 68,
     "metadata": {},
     "output_type": "execute_result"
    }
   ],
   "source": [
    "#insert and append4\n",
    "#append function will apend the given element at last of the list\n",
    "lis=[1,2,3,4,5]\n",
    "lis.append('sub')\n",
    "lis"
   ]
  },
  {
   "cell_type": "code",
   "execution_count": 69,
   "id": "e58c65a9",
   "metadata": {},
   "outputs": [],
   "source": [
    "#insert\n",
    "#we can insert the elemnent on the particular list\n",
    "lis.insert(1,'mac') #(index,value)"
   ]
  },
  {
   "cell_type": "code",
   "execution_count": 70,
   "id": "e8294f99",
   "metadata": {},
   "outputs": [
    {
     "data": {
      "text/plain": [
       "[1, 'mac', 2, 3, 4, 5, 'sub']"
      ]
     },
     "execution_count": 70,
     "metadata": {},
     "output_type": "execute_result"
    }
   ],
   "source": [
    "lis"
   ]
  },
  {
   "cell_type": "code",
   "execution_count": 71,
   "id": "5d143ddf",
   "metadata": {},
   "outputs": [],
   "source": [
    "#appends single element inside the list at last index\n",
    "#insert a single item in the particular position\n",
    "#extend -append the element in iteratable method"
   ]
  },
  {
   "cell_type": "code",
   "execution_count": 77,
   "id": "fdc651d7",
   "metadata": {},
   "outputs": [
    {
     "data": {
      "text/plain": [
       "5"
      ]
     },
     "execution_count": 77,
     "metadata": {},
     "output_type": "execute_result"
    }
   ],
   "source": [
    "#pop\n",
    "ll=['1',3,4,5,6,2,5]\n",
    "ll.pop() #pop will remove last element in the list by default"
   ]
  },
  {
   "cell_type": "code",
   "execution_count": 78,
   "id": "1c46dbe5",
   "metadata": {},
   "outputs": [
    {
     "data": {
      "text/plain": [
       "6"
      ]
     },
     "execution_count": 78,
     "metadata": {},
     "output_type": "execute_result"
    }
   ],
   "source": [
    "#we can remove the particular element inside list by using indexing\n",
    "ll.pop(4) #4 is indexig"
   ]
  },
  {
   "cell_type": "code",
   "execution_count": 80,
   "id": "337082dc",
   "metadata": {},
   "outputs": [
    {
     "data": {
      "text/plain": [
       "[1, 2, 3, 5, 6, 6, 7, 8]"
      ]
     },
     "execution_count": 80,
     "metadata": {},
     "output_type": "execute_result"
    }
   ],
   "source": [
    "#remove function\n",
    "#remove function will remove the value which is given\n",
    "lll =[1,2,3,4,5,6,6,7,8]\n",
    "lll.remove(4)\n",
    "lll"
   ]
  },
  {
   "cell_type": "code",
   "execution_count": 82,
   "id": "8159dd3b",
   "metadata": {},
   "outputs": [
    {
     "data": {
      "text/plain": [
       "3"
      ]
     },
     "execution_count": 82,
     "metadata": {},
     "output_type": "execute_result"
    }
   ],
   "source": [
    "l =[1,2,3,4]\n",
    "l[2] #indexing"
   ]
  },
  {
   "cell_type": "code",
   "execution_count": 84,
   "id": "63cd722b",
   "metadata": {},
   "outputs": [
    {
     "data": {
      "text/plain": [
       "[1, 2, 'subash', 4]"
      ]
     },
     "execution_count": 84,
     "metadata": {},
     "output_type": "execute_result"
    }
   ],
   "source": [
    "#change the value inside the list by using the index\n",
    "l[2] ='subash'\n",
    "l"
   ]
  },
  {
   "cell_type": "code",
   "execution_count": 85,
   "id": "80ab1701",
   "metadata": {},
   "outputs": [],
   "source": [
    "#String\n",
    "s ='iNeuron'"
   ]
  },
  {
   "cell_type": "code",
   "execution_count": 88,
   "id": "8ea3b94a",
   "metadata": {},
   "outputs": [
    {
     "data": {
      "text/plain": [
       "'e'"
      ]
     },
     "execution_count": 88,
     "metadata": {},
     "output_type": "execute_result"
    }
   ],
   "source": [
    "s[2] #string indexing"
   ]
  },
  {
   "cell_type": "code",
   "execution_count": 89,
   "id": "f16ed2c5",
   "metadata": {},
   "outputs": [
    {
     "ename": "TypeError",
     "evalue": "'str' object does not support item assignment",
     "output_type": "error",
     "traceback": [
      "\u001b[1;31m---------------------------------------------------------------------------\u001b[0m",
      "\u001b[1;31mTypeError\u001b[0m                                 Traceback (most recent call last)",
      "Input \u001b[1;32mIn [89]\u001b[0m, in \u001b[0;36m<cell line: 2>\u001b[1;34m()\u001b[0m\n\u001b[0;32m      1\u001b[0m \u001b[38;5;66;03m#replace the value by using indexing\u001b[39;00m\n\u001b[1;32m----> 2\u001b[0m s[\u001b[38;5;241m2\u001b[39m]\u001b[38;5;241m=\u001b[39m\u001b[38;5;124m'\u001b[39m\u001b[38;5;124ma\u001b[39m\u001b[38;5;124m'\u001b[39m\n",
      "\u001b[1;31mTypeError\u001b[0m: 'str' object does not support item assignment"
     ]
    }
   ],
   "source": [
    "#we can't replace string value by using indexing\n",
    "#why beacuse the string is immutable list is mutable\n",
    "s[2]='a'"
   ]
  },
  {
   "cell_type": "code",
   "execution_count": 110,
   "id": "f558ca48",
   "metadata": {},
   "outputs": [],
   "source": [
    "#tuple()\n",
    "#tuple is also like a list but it is immutable we can't change anything after the declaration\n",
    "t= ('subash',4,8.9,True,False)"
   ]
  },
  {
   "cell_type": "code",
   "execution_count": 112,
   "id": "782abb8d",
   "metadata": {},
   "outputs": [
    {
     "data": {
      "text/plain": [
       "('subash', 4, 8.9, True, False)"
      ]
     },
     "execution_count": 112,
     "metadata": {},
     "output_type": "execute_result"
    }
   ],
   "source": [
    "t"
   ]
  },
  {
   "cell_type": "code",
   "execution_count": 113,
   "id": "d3087455",
   "metadata": {},
   "outputs": [
    {
     "data": {
      "text/plain": [
       "tuple"
      ]
     },
     "execution_count": 113,
     "metadata": {},
     "output_type": "execute_result"
    }
   ],
   "source": [
    "type(t)"
   ]
  },
  {
   "cell_type": "code",
   "execution_count": 116,
   "id": "658dcb84",
   "metadata": {},
   "outputs": [
    {
     "data": {
      "text/plain": [
       "4"
      ]
     },
     "execution_count": 116,
     "metadata": {},
     "output_type": "execute_result"
    }
   ],
   "source": [
    "#Indexing\n",
    "t[1] "
   ]
  },
  {
   "cell_type": "code",
   "execution_count": 117,
   "id": "f58e8358",
   "metadata": {},
   "outputs": [
    {
     "data": {
      "text/plain": [
       "'subash'"
      ]
     },
     "execution_count": 117,
     "metadata": {},
     "output_type": "execute_result"
    }
   ],
   "source": [
    "t[0]"
   ]
  },
  {
   "cell_type": "code",
   "execution_count": 118,
   "id": "4eeb55db",
   "metadata": {},
   "outputs": [
    {
     "ename": "TypeError",
     "evalue": "'tuple' object does not support item assignment",
     "output_type": "error",
     "traceback": [
      "\u001b[1;31m---------------------------------------------------------------------------\u001b[0m",
      "\u001b[1;31mTypeError\u001b[0m                                 Traceback (most recent call last)",
      "Input \u001b[1;32mIn [118]\u001b[0m, in \u001b[0;36m<cell line: 2>\u001b[1;34m()\u001b[0m\n\u001b[0;32m      1\u001b[0m \u001b[38;5;66;03m#try to change the value inside the tuple\u001b[39;00m\n\u001b[1;32m----> 2\u001b[0m t[\u001b[38;5;241m1\u001b[39m] \u001b[38;5;241m=\u001b[39m\u001b[38;5;124m'\u001b[39m\u001b[38;5;124mmac\u001b[39m\u001b[38;5;124m'\u001b[39m\n",
      "\u001b[1;31mTypeError\u001b[0m: 'tuple' object does not support item assignment"
     ]
    }
   ],
   "source": [
    "#try to change the value inside the tuple because tuple' object does not support item assignment\n",
    "t[1] ='mac'"
   ]
  },
  {
   "cell_type": "code",
   "execution_count": 122,
   "id": "cfcd582f",
   "metadata": {},
   "outputs": [
    {
     "data": {
      "text/plain": [
       "('subash', 4, 8.9, True)"
      ]
     },
     "execution_count": 122,
     "metadata": {},
     "output_type": "execute_result"
    }
   ],
   "source": [
    "t[0:4]"
   ]
  },
  {
   "cell_type": "code",
   "execution_count": 126,
   "id": "8c60d981",
   "metadata": {},
   "outputs": [
    {
     "data": {
      "text/plain": [
       "(False, True, 8.9, 4, 'subash')"
      ]
     },
     "execution_count": 126,
     "metadata": {},
     "output_type": "execute_result"
    }
   ],
   "source": [
    "t[::-1] #reverse the tuple"
   ]
  },
  {
   "cell_type": "code",
   "execution_count": 127,
   "id": "6d22a65f",
   "metadata": {},
   "outputs": [
    {
     "data": {
      "text/plain": [
       "('subash', 8.9, False)"
      ]
     },
     "execution_count": 127,
     "metadata": {},
     "output_type": "execute_result"
    }
   ],
   "source": [
    "t[::2] #every even element will print"
   ]
  },
  {
   "cell_type": "code",
   "execution_count": 129,
   "id": "4da9f245",
   "metadata": {},
   "outputs": [
    {
     "data": {
      "text/plain": [
       "('subash', True)"
      ]
     },
     "execution_count": 129,
     "metadata": {},
     "output_type": "execute_result"
    }
   ],
   "source": [
    "t[0:4:3]"
   ]
  },
  {
   "cell_type": "code",
   "execution_count": 131,
   "id": "fb1450eb",
   "metadata": {},
   "outputs": [
    {
     "data": {
      "text/plain": [
       "()"
      ]
     },
     "execution_count": 131,
     "metadata": {},
     "output_type": "execute_result"
    }
   ],
   "source": [
    "t[0:4:-1] #this jump wont happpen"
   ]
  },
  {
   "cell_type": "code",
   "execution_count": 132,
   "id": "3480d66e",
   "metadata": {},
   "outputs": [
    {
     "data": {
      "text/plain": [
       "(3, 5, 7, 'o', 'subash', 4, 8.9, True, False)"
      ]
     },
     "execution_count": 132,
     "metadata": {},
     "output_type": "execute_result"
    }
   ],
   "source": [
    "#tuple concat\n",
    "t1 =(3,5,7,'o')\n",
    "t1+t"
   ]
  },
  {
   "cell_type": "code",
   "execution_count": 137,
   "id": "3b60603e",
   "metadata": {},
   "outputs": [
    {
     "data": {
      "text/plain": [
       "4"
      ]
     },
     "execution_count": 137,
     "metadata": {},
     "output_type": "execute_result"
    }
   ],
   "source": [
    "#count\n",
    "tup =(1,2,1,8,1,6,4,6,2,1,3,7)\n",
    "tup.count(1) #count of value'1'"
   ]
  },
  {
   "cell_type": "code",
   "execution_count": 138,
   "id": "9faeee2f",
   "metadata": {},
   "outputs": [
    {
     "data": {
      "text/plain": [
       "1"
      ]
     },
     "execution_count": 138,
     "metadata": {},
     "output_type": "execute_result"
    }
   ],
   "source": [
    "tup.count(7)"
   ]
  },
  {
   "cell_type": "code",
   "execution_count": 139,
   "id": "62172e1d",
   "metadata": {},
   "outputs": [
    {
     "data": {
      "text/plain": [
       "2"
      ]
     },
     "execution_count": 139,
     "metadata": {},
     "output_type": "execute_result"
    }
   ],
   "source": [
    "tup.count(6)"
   ]
  },
  {
   "cell_type": "code",
   "execution_count": 140,
   "id": "3c76f332",
   "metadata": {},
   "outputs": [],
   "source": [
    "#convert the tuple to list\n",
    "lis =list(tup)"
   ]
  },
  {
   "cell_type": "code",
   "execution_count": 141,
   "id": "a01dcbd7",
   "metadata": {},
   "outputs": [
    {
     "data": {
      "text/plain": [
       "[1, 2, 1, 8, 1, 6, 4, 6, 2, 1, 3, 7]"
      ]
     },
     "execution_count": 141,
     "metadata": {},
     "output_type": "execute_result"
    }
   ],
   "source": [
    "lis"
   ]
  },
  {
   "cell_type": "code",
   "execution_count": 143,
   "id": "bc27dd94",
   "metadata": {},
   "outputs": [
    {
     "data": {
      "text/plain": [
       "(1, 2, 1, 8, 1, 6, 4, 6, 2, 1, 3, 7)"
      ]
     },
     "execution_count": 143,
     "metadata": {},
     "output_type": "execute_result"
    }
   ],
   "source": [
    "#conver the list to tuple\n",
    "t1 =tuple(lis)\n",
    "t1"
   ]
  },
  {
   "cell_type": "code",
   "execution_count": 146,
   "id": "9a083c53",
   "metadata": {},
   "outputs": [],
   "source": [
    "#dictionary{}\n",
    "dic ={'Name':'subash','Age':22,'Place':'Attur'}"
   ]
  },
  {
   "cell_type": "code",
   "execution_count": 147,
   "id": "9c478093",
   "metadata": {},
   "outputs": [
    {
     "data": {
      "text/plain": [
       "{'Name': 'subash', 'Age': 22, 'Place': 'Attur'}"
      ]
     },
     "execution_count": 147,
     "metadata": {},
     "output_type": "execute_result"
    }
   ],
   "source": [
    "dic"
   ]
  },
  {
   "cell_type": "code",
   "execution_count": 150,
   "id": "82cebdad",
   "metadata": {},
   "outputs": [
    {
     "data": {
      "text/plain": [
       "dict_keys(['Name', 'Age', 'Place'])"
      ]
     },
     "execution_count": 150,
     "metadata": {},
     "output_type": "execute_result"
    }
   ],
   "source": [
    "dic.keys()"
   ]
  },
  {
   "cell_type": "code",
   "execution_count": 151,
   "id": "9fedaf78",
   "metadata": {},
   "outputs": [
    {
     "data": {
      "text/plain": [
       "dict_values(['subash', 22, 'Attur'])"
      ]
     },
     "execution_count": 151,
     "metadata": {},
     "output_type": "execute_result"
    }
   ],
   "source": [
    "dic.values()"
   ]
  },
  {
   "cell_type": "code",
   "execution_count": 153,
   "id": "024d3c4b",
   "metadata": {},
   "outputs": [
    {
     "data": {
      "text/plain": [
       "dict"
      ]
     },
     "execution_count": 153,
     "metadata": {},
     "output_type": "execute_result"
    }
   ],
   "source": [
    "type(dic)"
   ]
  },
  {
   "cell_type": "code",
   "execution_count": 154,
   "id": "ed55fee7",
   "metadata": {},
   "outputs": [],
   "source": [
    "d ={1}"
   ]
  },
  {
   "cell_type": "code",
   "execution_count": 155,
   "id": "e17c313a",
   "metadata": {},
   "outputs": [
    {
     "data": {
      "text/plain": [
       "set"
      ]
     },
     "execution_count": 155,
     "metadata": {},
     "output_type": "execute_result"
    }
   ],
   "source": [
    "type(d)"
   ]
  },
  {
   "cell_type": "code",
   "execution_count": 156,
   "id": "4f6a9d2b",
   "metadata": {},
   "outputs": [],
   "source": [
    "#dic and set bothe are mostley same but in dic we have key and values\n",
    "#both are declared inside the {}\n",
    "#if there is any key and value inside the curly brace then it will consider as dict\n",
    "#if ther is only single comma separated values then it will consider as the set\n",
    "#while checking the type of both if anything is entered inside the curly based on the value it will give the type\n",
    "#if nothing was mentioned inside the curly brace it will consider as dict\n",
    "d={}"
   ]
  },
  {
   "cell_type": "code",
   "execution_count": 157,
   "id": "4b103921",
   "metadata": {},
   "outputs": [
    {
     "data": {
      "text/plain": [
       "dict"
      ]
     },
     "execution_count": 157,
     "metadata": {},
     "output_type": "execute_result"
    }
   ],
   "source": [
    "type(d)"
   ]
  },
  {
   "cell_type": "code",
   "execution_count": 158,
   "id": "509935e6",
   "metadata": {},
   "outputs": [],
   "source": [
    "d1={1}"
   ]
  },
  {
   "cell_type": "code",
   "execution_count": 159,
   "id": "ecf9dc13",
   "metadata": {},
   "outputs": [
    {
     "data": {
      "text/plain": [
       "set"
      ]
     },
     "execution_count": 159,
     "metadata": {},
     "output_type": "execute_result"
    }
   ],
   "source": [
    "type(d1)"
   ]
  },
  {
   "cell_type": "code",
   "execution_count": 169,
   "id": "9b2c38a3",
   "metadata": {},
   "outputs": [],
   "source": [
    "dic ={'Name':'subash','Age':22,'Place':'Attur'}"
   ]
  },
  {
   "cell_type": "code",
   "execution_count": 170,
   "id": "c4ad4b5d",
   "metadata": {},
   "outputs": [
    {
     "data": {
      "text/plain": [
       "'subash'"
      ]
     },
     "execution_count": 170,
     "metadata": {},
     "output_type": "execute_result"
    }
   ],
   "source": [
    "dic['Name'] #get the values by using key"
   ]
  },
  {
   "cell_type": "code",
   "execution_count": 171,
   "id": "9cbe7daf",
   "metadata": {},
   "outputs": [],
   "source": [
    "#changing the value in dic by using the key\n",
    "dic['Name'] ='Shalini'"
   ]
  },
  {
   "cell_type": "code",
   "execution_count": 172,
   "id": "deed3cb8",
   "metadata": {},
   "outputs": [
    {
     "data": {
      "text/plain": [
       "{'Name': 'Shalini', 'Age': 22, 'Place': 'Attur'}"
      ]
     },
     "execution_count": 172,
     "metadata": {},
     "output_type": "execute_result"
    }
   ],
   "source": [
    "dic"
   ]
  },
  {
   "cell_type": "code",
   "execution_count": 173,
   "id": "09c76fc3",
   "metadata": {},
   "outputs": [],
   "source": [
    "dict1 ={'Name':'subash','Courses':['Python','NLP','CV','Bigdata']}"
   ]
  },
  {
   "cell_type": "code",
   "execution_count": 174,
   "id": "96041c37",
   "metadata": {},
   "outputs": [
    {
     "data": {
      "text/plain": [
       "['Python', 'NLP', 'CV', 'Bigdata']"
      ]
     },
     "execution_count": 174,
     "metadata": {},
     "output_type": "execute_result"
    }
   ],
   "source": [
    "dict1['Courses']"
   ]
  },
  {
   "cell_type": "code",
   "execution_count": 178,
   "id": "29a1f91e",
   "metadata": {},
   "outputs": [
    {
     "data": {
      "text/plain": [
       "True"
      ]
     },
     "execution_count": 178,
     "metadata": {},
     "output_type": "execute_result"
    }
   ],
   "source": [
    "\"Python\" in dict1['Courses']"
   ]
  },
  {
   "cell_type": "code",
   "execution_count": 179,
   "id": "7d09b9d5",
   "metadata": {},
   "outputs": [
    {
     "data": {
      "text/plain": [
       "{'Name': 'subash',\n",
       " 'Courses': ['Python', 'NLP', 'CV', 'Bigdata'],\n",
       " 'Pincode': 636108}"
      ]
     },
     "execution_count": 179,
     "metadata": {},
     "output_type": "execute_result"
    }
   ],
   "source": [
    "#add the new key and value inside the dict\n",
    "dict1['Pincode'] =636108\n",
    "dict1"
   ]
  },
  {
   "cell_type": "code",
   "execution_count": 180,
   "id": "2e0b9352",
   "metadata": {},
   "outputs": [
    {
     "data": {
      "text/plain": [
       "{'Name': 'subash',\n",
       " 'Courses': ['Python', 'NLP', 'CV', 'Bigdata'],\n",
       " 'Pincode': 636108,\n",
       " 'new': {'Name': 'Shalini', 'Age': 22, 'Place': 'Attur'}}"
      ]
     },
     "execution_count": 180,
     "metadata": {},
     "output_type": "execute_result"
    }
   ],
   "source": [
    "#add the dic indside dic\n",
    "dict1[\"new\"] =dic\n",
    "dict1"
   ]
  },
  {
   "cell_type": "code",
   "execution_count": 182,
   "id": "3a90dd2b",
   "metadata": {},
   "outputs": [
    {
     "data": {
      "text/plain": [
       "{'Name': 'Shalini', 'Age': 22, 'Place': 'Attur'}"
      ]
     },
     "execution_count": 182,
     "metadata": {},
     "output_type": "execute_result"
    }
   ],
   "source": [
    "#get the value of plce inside the dict1\n",
    "dict1['new']"
   ]
  },
  {
   "cell_type": "code",
   "execution_count": 183,
   "id": "2c1c47d1",
   "metadata": {},
   "outputs": [
    {
     "data": {
      "text/plain": [
       "'Attur'"
      ]
     },
     "execution_count": 183,
     "metadata": {},
     "output_type": "execute_result"
    }
   ],
   "source": [
    "dict1['new']['Place']"
   ]
  },
  {
   "cell_type": "code",
   "execution_count": 184,
   "id": "aa368f62",
   "metadata": {},
   "outputs": [
    {
     "ename": "SyntaxError",
     "evalue": "invalid syntax (4012774494.py, line 1)",
     "output_type": "error",
     "traceback": [
      "\u001b[1;36m  Input \u001b[1;32mIn [184]\u001b[1;36m\u001b[0m\n\u001b[1;33m    d5 ={@:\"sjkdjha\"}\u001b[0m\n\u001b[1;37m         ^\u001b[0m\n\u001b[1;31mSyntaxError\u001b[0m\u001b[1;31m:\u001b[0m invalid syntax\n"
     ]
    }
   ],
   "source": [
    "d5 ={@:\"sjkdjha\"} #@not allowing"
   ]
  },
  {
   "cell_type": "code",
   "execution_count": 187,
   "id": "ad847a69",
   "metadata": {},
   "outputs": [
    {
     "data": {
      "text/plain": [
       "'sjkdjha'"
      ]
     },
     "execution_count": 187,
     "metadata": {},
     "output_type": "execute_result"
    }
   ],
   "source": [
    "d5 ={_:\"sjkdjha\"} #_ is only allowing\n",
    "d5[_]"
   ]
  },
  {
   "cell_type": "code",
   "execution_count": 188,
   "id": "848cabd8",
   "metadata": {},
   "outputs": [
    {
     "data": {
      "text/plain": [
       "{(1, 2, 3, 4): 'dajbdajbd'}"
      ]
     },
     "execution_count": 188,
     "metadata": {},
     "output_type": "execute_result"
    }
   ],
   "source": [
    "#tuple can allow to use as key\n",
    "d6 ={(1,2,3,4,):\"dajbdajbd\"}\n",
    "d6"
   ]
  },
  {
   "cell_type": "code",
   "execution_count": 189,
   "id": "2d9cd732",
   "metadata": {},
   "outputs": [
    {
     "data": {
      "text/plain": [
       "'dajbdajbd'"
      ]
     },
     "execution_count": 189,
     "metadata": {},
     "output_type": "execute_result"
    }
   ],
   "source": [
    "d6[(1,2,3,4)]"
   ]
  },
  {
   "cell_type": "code",
   "execution_count": 190,
   "id": "f8bc1ddc",
   "metadata": {},
   "outputs": [
    {
     "ename": "TypeError",
     "evalue": "unhashable type: 'list'",
     "output_type": "error",
     "traceback": [
      "\u001b[1;31m---------------------------------------------------------------------------\u001b[0m",
      "\u001b[1;31mTypeError\u001b[0m                                 Traceback (most recent call last)",
      "Input \u001b[1;32mIn [190]\u001b[0m, in \u001b[0;36m<cell line: 2>\u001b[1;34m()\u001b[0m\n\u001b[0;32m      1\u001b[0m \u001b[38;5;66;03m#list can't allow to use as key\u001b[39;00m\n\u001b[1;32m----> 2\u001b[0m d7 \u001b[38;5;241m=\u001b[39m{[\u001b[38;5;241m1\u001b[39m,\u001b[38;5;241m2\u001b[39m,\u001b[38;5;241m3\u001b[39m,\u001b[38;5;241m4\u001b[39m]:\u001b[38;5;124m\"\u001b[39m\u001b[38;5;124mdajbdajbd\u001b[39m\u001b[38;5;124m\"\u001b[39m}\n\u001b[0;32m      3\u001b[0m d7\n",
      "\u001b[1;31mTypeError\u001b[0m: unhashable type: 'list'"
     ]
    }
   ],
   "source": [
    "#list can't allow to use as key\n",
    "d7 ={[1,2,3,4]:\"dajbdajbd\"}\n",
    "d7"
   ]
  },
  {
   "cell_type": "code",
   "execution_count": 191,
   "id": "047fc840",
   "metadata": {},
   "outputs": [
    {
     "ename": "TypeError",
     "evalue": "unhashable type: 'dict'",
     "output_type": "error",
     "traceback": [
      "\u001b[1;31m---------------------------------------------------------------------------\u001b[0m",
      "\u001b[1;31mTypeError\u001b[0m                                 Traceback (most recent call last)",
      "Input \u001b[1;32mIn [191]\u001b[0m, in \u001b[0;36m<cell line: 3>\u001b[1;34m()\u001b[0m\n\u001b[0;32m      1\u001b[0m \u001b[38;5;66;03m#dic inside dic also not allowing as key\u001b[39;00m\n\u001b[0;32m      2\u001b[0m \u001b[38;5;66;03m#list can't allow to use as key\u001b[39;00m\n\u001b[1;32m----> 3\u001b[0m d7 \u001b[38;5;241m=\u001b[39m{{\u001b[38;5;241m1\u001b[39m:\u001b[38;5;241m2\u001b[39m}:\u001b[38;5;124m\"\u001b[39m\u001b[38;5;124mdajbdajbd\u001b[39m\u001b[38;5;124m\"\u001b[39m}\n\u001b[0;32m      4\u001b[0m d7\n",
      "\u001b[1;31mTypeError\u001b[0m: unhashable type: 'dict'"
     ]
    }
   ],
   "source": [
    "#dic inside dic also not allowing as key\n",
    "#list can't allow to use as key\n",
    "d7 ={{1:2}:\"dajbdajbd\"}\n",
    "d7"
   ]
  },
  {
   "cell_type": "code",
   "execution_count": 192,
   "id": "19eab0e5",
   "metadata": {},
   "outputs": [
    {
     "data": {
      "text/plain": [
       "'Shalini'"
      ]
     },
     "execution_count": 192,
     "metadata": {},
     "output_type": "execute_result"
    }
   ],
   "source": [
    "dic.get(\"Name\")"
   ]
  },
  {
   "cell_type": "code",
   "execution_count": 193,
   "id": "abd5e390",
   "metadata": {},
   "outputs": [
    {
     "data": {
      "text/plain": [
       "dict_items([('Name', 'subash'), ('Courses', ['Python', 'NLP', 'CV', 'Bigdata']), ('Pincode', 636108), ('new', {'Name': 'Shalini', 'Age': 22, 'Place': 'Attur'})])"
      ]
     },
     "execution_count": 193,
     "metadata": {},
     "output_type": "execute_result"
    }
   ],
   "source": [
    "dict1.items()"
   ]
  },
  {
   "cell_type": "code",
   "execution_count": 200,
   "id": "ef90dc45",
   "metadata": {},
   "outputs": [
    {
     "data": {
      "text/plain": [
       "dict_items"
      ]
     },
     "execution_count": 200,
     "metadata": {},
     "output_type": "execute_result"
    }
   ],
   "source": [
    "dict11 =dict1.items()\n",
    "type(dict11)"
   ]
  },
  {
   "cell_type": "code",
   "execution_count": 194,
   "id": "d390e5c9",
   "metadata": {},
   "outputs": [
    {
     "ename": "TypeError",
     "evalue": "unsupported operand type(s) for +: 'dict' and 'dict'",
     "output_type": "error",
     "traceback": [
      "\u001b[1;31m---------------------------------------------------------------------------\u001b[0m",
      "\u001b[1;31mTypeError\u001b[0m                                 Traceback (most recent call last)",
      "Input \u001b[1;32mIn [194]\u001b[0m, in \u001b[0;36m<cell line: 2>\u001b[1;34m()\u001b[0m\n\u001b[0;32m      1\u001b[0m \u001b[38;5;66;03m#concat was not allowing to do for dict\u001b[39;00m\n\u001b[1;32m----> 2\u001b[0m \u001b[43mdic\u001b[49m\u001b[38;5;241;43m+\u001b[39;49m\u001b[43mdict1\u001b[49m\n",
      "\u001b[1;31mTypeError\u001b[0m: unsupported operand type(s) for +: 'dict' and 'dict'"
     ]
    }
   ],
   "source": [
    "#concat was not allowing to do for dict\n",
    "dic+dict1"
   ]
  },
  {
   "cell_type": "code",
   "execution_count": 196,
   "id": "9eca8f40",
   "metadata": {},
   "outputs": [
    {
     "data": {
      "text/plain": [
       "'subash'"
      ]
     },
     "execution_count": 196,
     "metadata": {},
     "output_type": "execute_result"
    }
   ],
   "source": [
    "dict1.pop(\"Name\")"
   ]
  },
  {
   "cell_type": "code",
   "execution_count": 197,
   "id": "ae1a3f97",
   "metadata": {},
   "outputs": [
    {
     "data": {
      "text/plain": [
       "{'Courses': ['Python', 'NLP', 'CV', 'Bigdata'],\n",
       " 'Pincode': 636108,\n",
       " 'new': {'Name': 'Shalini', 'Age': 22, 'Place': 'Attur'}}"
      ]
     },
     "execution_count": 197,
     "metadata": {},
     "output_type": "execute_result"
    }
   ],
   "source": [
    "dict1"
   ]
  },
  {
   "cell_type": "code",
   "execution_count": 198,
   "id": "4ad94634",
   "metadata": {},
   "outputs": [],
   "source": [
    "dict1['Name'] ='Subash'"
   ]
  },
  {
   "cell_type": "code",
   "execution_count": 199,
   "id": "042a0f15",
   "metadata": {},
   "outputs": [
    {
     "data": {
      "text/plain": [
       "{'Courses': ['Python', 'NLP', 'CV', 'Bigdata'],\n",
       " 'Pincode': 636108,\n",
       " 'new': {'Name': 'Shalini', 'Age': 22, 'Place': 'Attur'},\n",
       " 'Name': 'Subash'}"
      ]
     },
     "execution_count": 199,
     "metadata": {},
     "output_type": "execute_result"
    }
   ],
   "source": [
    "dict1"
   ]
  },
  {
   "cell_type": "code",
   "execution_count": 202,
   "id": "70a902a5",
   "metadata": {},
   "outputs": [],
   "source": [
    "#Set{}\n",
    "s ={1,2,4,4,5,6}"
   ]
  },
  {
   "cell_type": "code",
   "execution_count": 203,
   "id": "be29cb8c",
   "metadata": {},
   "outputs": [
    {
     "data": {
      "text/plain": [
       "{1, 2, 4, 5, 6}"
      ]
     },
     "execution_count": 203,
     "metadata": {},
     "output_type": "execute_result"
    }
   ],
   "source": [
    "s"
   ]
  },
  {
   "cell_type": "code",
   "execution_count": 205,
   "id": "805e7cad",
   "metadata": {},
   "outputs": [],
   "source": [
    "s.add(19)"
   ]
  },
  {
   "cell_type": "code",
   "execution_count": 206,
   "id": "787709af",
   "metadata": {},
   "outputs": [
    {
     "data": {
      "text/plain": [
       "{1, 2, 4, 5, 6, 19}"
      ]
     },
     "execution_count": 206,
     "metadata": {},
     "output_type": "execute_result"
    }
   ],
   "source": [
    "s"
   ]
  },
  {
   "cell_type": "code",
   "execution_count": 217,
   "id": "7f00b3a0",
   "metadata": {},
   "outputs": [
    {
     "data": {
      "text/plain": [
       "19"
      ]
     },
     "execution_count": 217,
     "metadata": {},
     "output_type": "execute_result"
    }
   ],
   "source": [
    "#set is not accepting the duplicates\n",
    "#set is muttable\n",
    "#set not iteratable\n",
    "#set is unordered \n",
    "#for example pop() will remove the randonm value in the list\n",
    "#set function is automatically orederd the values by asscending when the values are only numbers\n",
    "s.pop()"
   ]
  },
  {
   "cell_type": "code",
   "execution_count": 213,
   "id": "4ea861e7",
   "metadata": {},
   "outputs": [],
   "source": [
    "s1 ={45,78,78,9,96,96,85,15,5,5}"
   ]
  },
  {
   "cell_type": "code",
   "execution_count": 214,
   "id": "1f25beec",
   "metadata": {},
   "outputs": [
    {
     "data": {
      "text/plain": [
       "{5, 9, 15, 45, 78, 85, 96}"
      ]
     },
     "execution_count": 214,
     "metadata": {},
     "output_type": "execute_result"
    }
   ],
   "source": [
    "s1"
   ]
  },
  {
   "cell_type": "code",
   "execution_count": 215,
   "id": "081119aa",
   "metadata": {},
   "outputs": [],
   "source": [
    "s2 ={'subash','mac',45,78,59,5}"
   ]
  },
  {
   "cell_type": "code",
   "execution_count": 216,
   "id": "1690b991",
   "metadata": {},
   "outputs": [
    {
     "data": {
      "text/plain": [
       "{45, 5, 59, 78, 'mac', 'subash'}"
      ]
     },
     "execution_count": 216,
     "metadata": {},
     "output_type": "execute_result"
    }
   ],
   "source": [
    "s2"
   ]
  },
  {
   "cell_type": "code",
   "execution_count": 218,
   "id": "99bd5b87",
   "metadata": {},
   "outputs": [],
   "source": [
    "s2.remove(45)"
   ]
  },
  {
   "cell_type": "code",
   "execution_count": 219,
   "id": "9d4d965c",
   "metadata": {},
   "outputs": [
    {
     "data": {
      "text/plain": [
       "{5, 59, 78, 'mac', 'subash'}"
      ]
     },
     "execution_count": 219,
     "metadata": {},
     "output_type": "execute_result"
    }
   ],
   "source": [
    "s2"
   ]
  },
  {
   "cell_type": "code",
   "execution_count": 220,
   "id": "ab6930d9",
   "metadata": {},
   "outputs": [
    {
     "ename": "TypeError",
     "evalue": "'set' object is not subscriptable",
     "output_type": "error",
     "traceback": [
      "\u001b[1;31m---------------------------------------------------------------------------\u001b[0m",
      "\u001b[1;31mTypeError\u001b[0m                                 Traceback (most recent call last)",
      "Input \u001b[1;32mIn [220]\u001b[0m, in \u001b[0;36m<cell line: 1>\u001b[1;34m()\u001b[0m\n\u001b[1;32m----> 1\u001b[0m \u001b[43ms2\u001b[49m\u001b[43m[\u001b[49m\u001b[38;5;241;43m0\u001b[39;49m\u001b[43m]\u001b[49m\n",
      "\u001b[1;31mTypeError\u001b[0m: 'set' object is not subscriptable"
     ]
    }
   ],
   "source": [
    "s2[0]"
   ]
  },
  {
   "cell_type": "code",
   "execution_count": 224,
   "id": "d12689a7",
   "metadata": {},
   "outputs": [],
   "source": [
    "s2.add(45) #if only the given value is not available inside the set"
   ]
  },
  {
   "cell_type": "code",
   "execution_count": 225,
   "id": "83f8a41c",
   "metadata": {},
   "outputs": [
    {
     "data": {
      "text/plain": [
       "{45, 5, 59, 78, 'mac', 'subash'}"
      ]
     },
     "execution_count": 225,
     "metadata": {},
     "output_type": "execute_result"
    }
   ],
   "source": [
    "s2"
   ]
  },
  {
   "cell_type": "code",
   "execution_count": 228,
   "id": "a3457a95",
   "metadata": {},
   "outputs": [],
   "source": [
    "#change the set to list\n",
    "lis = list(s2)"
   ]
  },
  {
   "cell_type": "code",
   "execution_count": 229,
   "id": "2bee0045",
   "metadata": {},
   "outputs": [
    {
     "data": {
      "text/plain": [
       "[45, 5, 'subash', 'mac', 59, 78]"
      ]
     },
     "execution_count": 229,
     "metadata": {},
     "output_type": "execute_result"
    }
   ],
   "source": [
    "lis"
   ]
  },
  {
   "cell_type": "code",
   "execution_count": 230,
   "id": "59863504",
   "metadata": {},
   "outputs": [],
   "source": [
    "#list to set"
   ]
  },
  {
   "cell_type": "code",
   "execution_count": 231,
   "id": "13911576",
   "metadata": {},
   "outputs": [
    {
     "data": {
      "text/plain": [
       "[1.1, 8, 7, 58, 58, 4, 5, 45, 4, 5, 4, 5, 5]"
      ]
     },
     "execution_count": 231,
     "metadata": {},
     "output_type": "execute_result"
    }
   ],
   "source": [
    "l =[1.1,8,7,58,58,4,5,45,4,5,4,5,5]\n",
    "l"
   ]
  },
  {
   "cell_type": "code",
   "execution_count": 232,
   "id": "c4899f66",
   "metadata": {},
   "outputs": [
    {
     "data": {
      "text/plain": [
       "{1.1, 4, 5, 7, 8, 45, 58}"
      ]
     },
     "execution_count": 232,
     "metadata": {},
     "output_type": "execute_result"
    }
   ],
   "source": [
    "set(l)"
   ]
  },
  {
   "cell_type": "code",
   "execution_count": 234,
   "id": "f68050c3",
   "metadata": {},
   "outputs": [],
   "source": [
    "#store tuple inside the set\n",
    "s2 = {(1,1.2,8),45,78,78,9,96,96,85,15,5,5}"
   ]
  },
  {
   "cell_type": "code",
   "execution_count": 235,
   "id": "17934467",
   "metadata": {},
   "outputs": [
    {
     "data": {
      "text/plain": [
       "{(1, 1.2, 8), 15, 45, 5, 78, 85, 9, 96}"
      ]
     },
     "execution_count": 235,
     "metadata": {},
     "output_type": "execute_result"
    }
   ],
   "source": [
    "s2"
   ]
  },
  {
   "cell_type": "code",
   "execution_count": 236,
   "id": "c47dc99e",
   "metadata": {},
   "outputs": [],
   "source": [
    "s2.remove(5)"
   ]
  },
  {
   "cell_type": "code",
   "execution_count": 237,
   "id": "f7e8b921",
   "metadata": {},
   "outputs": [
    {
     "data": {
      "text/plain": [
       "{(1, 1.2, 8), 15, 45, 78, 85, 9, 96}"
      ]
     },
     "execution_count": 237,
     "metadata": {},
     "output_type": "execute_result"
    }
   ],
   "source": [
    "s2"
   ]
  },
  {
   "cell_type": "code",
   "execution_count": 239,
   "id": "a380455b",
   "metadata": {},
   "outputs": [],
   "source": [
    "s2.discard(15)"
   ]
  },
  {
   "cell_type": "code",
   "execution_count": 240,
   "id": "4b0c89ac",
   "metadata": {},
   "outputs": [
    {
     "data": {
      "text/plain": [
       "{(1, 1.2, 8), 45, 78, 85, 9, 96}"
      ]
     },
     "execution_count": 240,
     "metadata": {},
     "output_type": "execute_result"
    }
   ],
   "source": [
    "s2"
   ]
  },
  {
   "cell_type": "code",
   "execution_count": 241,
   "id": "875cbc3f",
   "metadata": {},
   "outputs": [
    {
     "ename": "KeyError",
     "evalue": "4555",
     "output_type": "error",
     "traceback": [
      "\u001b[1;31m---------------------------------------------------------------------------\u001b[0m",
      "\u001b[1;31mKeyError\u001b[0m                                  Traceback (most recent call last)",
      "Input \u001b[1;32mIn [241]\u001b[0m, in \u001b[0;36m<cell line: 1>\u001b[1;34m()\u001b[0m\n\u001b[1;32m----> 1\u001b[0m \u001b[43ms2\u001b[49m\u001b[38;5;241;43m.\u001b[39;49m\u001b[43mremove\u001b[49m\u001b[43m(\u001b[49m\u001b[38;5;241;43m4555\u001b[39;49m\u001b[43m)\u001b[49m\n",
      "\u001b[1;31mKeyError\u001b[0m: 4555"
     ]
    }
   ],
   "source": [
    "s2.remove(4555) #if the given value is not available inside the set then it will not remove"
   ]
  },
  {
   "cell_type": "code",
   "execution_count": 248,
   "id": "5b819204",
   "metadata": {},
   "outputs": [],
   "source": [
    "# #if the given value is not available inside the set then it will don't display any error\n",
    "s2.discard(5454554544)"
   ]
  },
  {
   "cell_type": "code",
   "execution_count": 249,
   "id": "a8a76435",
   "metadata": {},
   "outputs": [
    {
     "data": {
      "text/plain": [
       "{(1, 1.2, 8), 45, 78, 85, 9, 96}"
      ]
     },
     "execution_count": 249,
     "metadata": {},
     "output_type": "execute_result"
    }
   ],
   "source": [
    "s2"
   ]
  },
  {
   "cell_type": "code",
   "execution_count": 252,
   "id": "780fe215",
   "metadata": {},
   "outputs": [
    {
     "ename": "SyntaxError",
     "evalue": "invalid syntax (354305500.py, line 2)",
     "output_type": "error",
     "traceback": [
      "\u001b[1;36m  Input \u001b[1;32mIn [252]\u001b[1;36m\u001b[0m\n\u001b[1;33m    d ={\"Name\":\"suabsh\",\"subj1\":\"eng\",\"subj2\":\"tamil\",\"subj3\":\"Maths\",{\"subj4\":\"Science\",\"subj5\":\"Social\"}}\u001b[0m\n\u001b[1;37m                                                                                                          ^\u001b[0m\n\u001b[1;31mSyntaxError\u001b[0m\u001b[1;31m:\u001b[0m invalid syntax\n"
     ]
    }
   ],
   "source": [
    "#try to create dic indside dict\n",
    "d ={\"Name\":\"suabsh\",\"subj1\":\"eng\",\"subj2\":\"tamil\",\"subj3\":\"Maths\",{\"subj4\":\"Science\",\"subj5\":\"Social\"}}"
   ]
  },
  {
   "cell_type": "raw",
   "id": "d9dcb67a",
   "metadata": {},
   "source": [
    "#Questions \n",
    "\n",
    "l = [3,4,5,6,7 , [23,456,67,8,78,78] , [345,56,87,8,98,9] , (234,6657,6) , {\"key1\" :\"sudh\" , 234:[23,45,656]}]\n",
    "1 . Try to reverse a list \n",
    "2. try to access 234 out of this list \n",
    "3 . try to access 456 \n",
    "4 . Try to extract only a list collection form list l \n",
    "5 . Try to extract \"sudh\"\n",
    "6 . Try to list all the key in dict element avaible in list \n",
    "7 . Try to extract all the value element form dict available in list "
   ]
  },
  {
   "cell_type": "code",
   "execution_count": 259,
   "id": "9613e8c4",
   "metadata": {},
   "outputs": [],
   "source": [
    "l = [3,4,5,6,7 , [23,456,67,8,78,78] , [345,56,87,8,98,9] , (234,6657,6) , {\"key1\" :\"sudh\" , 234:[23,45,656]}]"
   ]
  },
  {
   "cell_type": "code",
   "execution_count": 260,
   "id": "2936c125",
   "metadata": {},
   "outputs": [],
   "source": [
    "l.reverse()"
   ]
  },
  {
   "cell_type": "code",
   "execution_count": 261,
   "id": "08eb7bae",
   "metadata": {},
   "outputs": [
    {
     "data": {
      "text/plain": [
       "[{'key1': 'sudh', 234: [23, 45, 656]},\n",
       " (234, 6657, 6),\n",
       " [345, 56, 87, 8, 98, 9],\n",
       " [23, 456, 67, 8, 78, 78],\n",
       " 7,\n",
       " 6,\n",
       " 5,\n",
       " 4,\n",
       " 3]"
      ]
     },
     "execution_count": 261,
     "metadata": {},
     "output_type": "execute_result"
    }
   ],
   "source": [
    "l"
   ]
  },
  {
   "cell_type": "code",
   "execution_count": 264,
   "id": "1553e652",
   "metadata": {},
   "outputs": [
    {
     "data": {
      "text/plain": [
       "234"
      ]
     },
     "execution_count": 264,
     "metadata": {},
     "output_type": "execute_result"
    }
   ],
   "source": [
    "#get the 234 tuple value in the list\n",
    "l[1][0]"
   ]
  },
  {
   "cell_type": "code",
   "execution_count": 268,
   "id": "077c1ead",
   "metadata": {},
   "outputs": [
    {
     "data": {
      "text/plain": [
       "456"
      ]
     },
     "execution_count": 268,
     "metadata": {},
     "output_type": "execute_result"
    }
   ],
   "source": [
    "l[3][1]"
   ]
  },
  {
   "cell_type": "code",
   "execution_count": 271,
   "id": "631619e0",
   "metadata": {},
   "outputs": [
    {
     "data": {
      "text/plain": [
       "[[345, 56, 87, 8, 98, 9], [23, 456, 67, 8, 78, 78]]"
      ]
     },
     "execution_count": 271,
     "metadata": {},
     "output_type": "execute_result"
    }
   ],
   "source": [
    "l[2:4]"
   ]
  },
  {
   "cell_type": "code",
   "execution_count": 275,
   "id": "2226642c",
   "metadata": {},
   "outputs": [
    {
     "data": {
      "text/plain": [
       "'sudh'"
      ]
     },
     "execution_count": 275,
     "metadata": {},
     "output_type": "execute_result"
    }
   ],
   "source": [
    "l[0]['key1']"
   ]
  },
  {
   "cell_type": "code",
   "execution_count": 276,
   "id": "fb0189f0",
   "metadata": {},
   "outputs": [
    {
     "data": {
      "text/plain": [
       "[{'key1': 'sudh', 234: [23, 45, 656]},\n",
       " (234, 6657, 6),\n",
       " [345, 56, 87, 8, 98, 9],\n",
       " [23, 456, 67, 8, 78, 78],\n",
       " 7,\n",
       " 6,\n",
       " 5,\n",
       " 4,\n",
       " 3]"
      ]
     },
     "execution_count": 276,
     "metadata": {},
     "output_type": "execute_result"
    }
   ],
   "source": [
    "l"
   ]
  },
  {
   "cell_type": "code",
   "execution_count": 283,
   "id": "58c0839d",
   "metadata": {},
   "outputs": [
    {
     "data": {
      "text/plain": [
       "dict_keys(['key1', 234])"
      ]
     },
     "execution_count": 283,
     "metadata": {},
     "output_type": "execute_result"
    }
   ],
   "source": [
    "l[0].keys()"
   ]
  },
  {
   "cell_type": "code",
   "execution_count": 281,
   "id": "89355e84",
   "metadata": {},
   "outputs": [
    {
     "name": "stdout",
     "output_type": "stream",
     "text": [
      "dict_keys(['key1', 234])\n"
     ]
    }
   ],
   "source": [
    "dic = l[0]\n",
    "print(dic.keys())"
   ]
  },
  {
   "cell_type": "code",
   "execution_count": 282,
   "id": "668a5a6b",
   "metadata": {},
   "outputs": [
    {
     "data": {
      "text/plain": [
       "dict_values(['sudh', [23, 45, 656]])"
      ]
     },
     "execution_count": 282,
     "metadata": {},
     "output_type": "execute_result"
    }
   ],
   "source": [
    "l[0].values()"
   ]
  },
  {
   "cell_type": "code",
   "execution_count": null,
   "id": "73c2f536",
   "metadata": {},
   "outputs": [],
   "source": []
  }
 ],
 "metadata": {
  "kernelspec": {
   "display_name": "Python 3 (ipykernel)",
   "language": "python",
   "name": "python3"
  },
  "language_info": {
   "codemirror_mode": {
    "name": "ipython",
    "version": 3
   },
   "file_extension": ".py",
   "mimetype": "text/x-python",
   "name": "python",
   "nbconvert_exporter": "python",
   "pygments_lexer": "ipython3",
   "version": "3.9.12"
  }
 },
 "nbformat": 4,
 "nbformat_minor": 5
}
