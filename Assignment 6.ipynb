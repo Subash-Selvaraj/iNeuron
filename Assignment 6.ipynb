{
 "cells": [
  {
   "cell_type": "markdown",
   "id": "c8375037",
   "metadata": {},
   "source": [
    "#### 1.Write a Python Program to Display Fibonacci Sequence Using Recursion?"
   ]
  },
  {
   "cell_type": "code",
   "execution_count": 24,
   "id": "999c0ff7",
   "metadata": {},
   "outputs": [
    {
     "name": "stdout",
     "output_type": "stream",
     "text": [
      "10\n",
      "Fibanacci Sequence of  10 is \n",
      "0\n",
      "1\n",
      "1\n",
      "2\n",
      "3\n",
      "5\n",
      "8\n",
      "13\n",
      "21\n",
      "34\n"
     ]
    }
   ],
   "source": [
    "def fib(x):\n",
    "    if x<=1:\n",
    "        return x\n",
    "    elif x<0:\n",
    "        return \"Please enter the positive integers\"\n",
    "    else:\n",
    "        return(fib(x-1)+fib(x-2))\n",
    "x=int(input())\n",
    "print(\"Fibanacci Sequence of \",str(x),\"is \")\n",
    "for i in range(x):\n",
    "    print(fib(i))"
   ]
  },
  {
   "cell_type": "markdown",
   "id": "17e8a834",
   "metadata": {},
   "source": [
    "#### 2.Write a Python Program to Find Factorial of Number Using Recursion?\n"
   ]
  },
  {
   "cell_type": "code",
   "execution_count": 25,
   "id": "6f12028b",
   "metadata": {},
   "outputs": [
    {
     "name": "stdout",
     "output_type": "stream",
     "text": [
      "5\n"
     ]
    },
    {
     "data": {
      "text/plain": [
       "120"
      ]
     },
     "execution_count": 25,
     "metadata": {},
     "output_type": "execute_result"
    }
   ],
   "source": [
    "def fact(n):\n",
    "    if n==1:\n",
    "        return 1\n",
    "    else:\n",
    "        return (n*fact(n-1))\n",
    "n=int(input())\n",
    "fact(n)"
   ]
  },
  {
   "cell_type": "markdown",
   "id": "b3552f13",
   "metadata": {},
   "source": [
    "#### 3.Write a Python Program to calculate your Body Mass Index?\n"
   ]
  },
  {
   "cell_type": "code",
   "execution_count": 26,
   "id": "24a33b2a",
   "metadata": {},
   "outputs": [
    {
     "name": "stdout",
     "output_type": "stream",
     "text": [
      "Enter your weight in KG 95\n",
      "Enter your Hight in CM 178\n",
      "('Your in Over weight,Please reduce your weight and your BMI is', '29.983587930816814')\n"
     ]
    }
   ],
   "source": [
    "# formula -[weight (kg) / height (cm) / height (cm)] x 10,000\n",
    "weight= float(input('Enter your weight in KG '))\n",
    "height = float(input(\"Enter your Hight in CM \"))\n",
    "def BMI(weight,height):\n",
    "    BMI = (weight/height**2)*10000\n",
    "    if BMI >=25 and BMI<30:\n",
    "        return \"Your in Over weight,Please reduce your weight and your BMI is\",str(BMI)\n",
    "    elif BMI >=30:\n",
    "        return \"Your in Obesity.Please Reduce your weight and your BMI is\",str(BMI)\n",
    "    else:\n",
    "        return \"Your in Normal BMI,Keep it up and your BMI is\",str(BMI)\n",
    "BMI(weight,height)"
   ]
  },
  {
   "cell_type": "markdown",
   "id": "ac985e89",
   "metadata": {},
   "source": [
    "####  4.Write a Python Program to calculate the natural logarithm of any number?"
   ]
  },
  {
   "cell_type": "code",
   "execution_count": 7,
   "id": "50a016d3",
   "metadata": {},
   "outputs": [
    {
     "name": "stdout",
     "output_type": "stream",
     "text": [
      "2\n"
     ]
    },
    {
     "data": {
      "text/plain": [
       "0.6931471805599453"
      ]
     },
     "execution_count": 7,
     "metadata": {},
     "output_type": "execute_result"
    }
   ],
   "source": [
    "import math\n",
    "def naturallog(n):\n",
    "    if n>=1:\n",
    "        log =math.log(n)\n",
    "    return log\n",
    "n = float(input())\n",
    "naturallog(n)"
   ]
  },
  {
   "cell_type": "markdown",
   "id": "6bff32a8",
   "metadata": {},
   "source": [
    "#### 5.Write a Python Program for cube sum of first n natural numbers?"
   ]
  },
  {
   "cell_type": "code",
   "execution_count": 16,
   "id": "b83aab94",
   "metadata": {},
   "outputs": [
    {
     "name": "stdout",
     "output_type": "stream",
     "text": [
      "Enter the number 12\n"
     ]
    },
    {
     "data": {
      "text/plain": [
       "6084"
      ]
     },
     "execution_count": 16,
     "metadata": {},
     "output_type": "execute_result"
    }
   ],
   "source": [
    "n = int(input(\"Enter the number \"))\n",
    "total = 0\n",
    "if n>=1:\n",
    "    for i in range(1,n+1):\n",
    "        cube = i**3\n",
    "        total+=cube\n",
    "total"
   ]
  }
 ],
 "metadata": {
  "kernelspec": {
   "display_name": "Python 3 (ipykernel)",
   "language": "python",
   "name": "python3"
  },
  "language_info": {
   "codemirror_mode": {
    "name": "ipython",
    "version": 3
   },
   "file_extension": ".py",
   "mimetype": "text/x-python",
   "name": "python",
   "nbconvert_exporter": "python",
   "pygments_lexer": "ipython3",
   "version": "3.9.12"
  }
 },
 "nbformat": 4,
 "nbformat_minor": 5
}
