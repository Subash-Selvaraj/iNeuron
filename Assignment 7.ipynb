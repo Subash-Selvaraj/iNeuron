{
 "cells": [
  {
   "cell_type": "markdown",
   "id": "dd634831",
   "metadata": {},
   "source": [
    "#### 1.\tWrite a Python Program to find sum of array?"
   ]
  },
  {
   "cell_type": "code",
   "execution_count": 11,
   "id": "bee74d87",
   "metadata": {},
   "outputs": [
    {
     "name": "stdout",
     "output_type": "stream",
     "text": [
      "Enter the number of inputs 4\n",
      "1\n",
      "2\n",
      "3\n",
      "4\n",
      "Sum of the array is 10\n"
     ]
    }
   ],
   "source": [
    "lst=[]\n",
    "s =0\n",
    "a = int(input(\"Enter the number of inputs \"))\n",
    "for i in range(0,a):\n",
    "    l = int(input())\n",
    "    lst.append(l)\n",
    "for j in lst:\n",
    "    s+=j\n",
    "print(\"Sum of the array is\",s)"
   ]
  },
  {
   "cell_type": "markdown",
   "id": "9df1febc",
   "metadata": {},
   "source": [
    "#### 2.\tWrite a Python Program to find largest element in an array?"
   ]
  },
  {
   "cell_type": "code",
   "execution_count": 17,
   "id": "5f807f0a",
   "metadata": {},
   "outputs": [
    {
     "name": "stdout",
     "output_type": "stream",
     "text": [
      "70\n"
     ]
    }
   ],
   "source": [
    "a = [10,20,60,40,70]\n",
    "max=a[0]\n",
    "for i in range(0,len(a)):\n",
    "    if a[i]>max:\n",
    "        max=a[i]\n",
    "print(max)"
   ]
  },
  {
   "cell_type": "markdown",
   "id": "04def85c",
   "metadata": {},
   "source": [
    "#### 3.\tWrite a Python Program for array rotation?\n"
   ]
  },
  {
   "cell_type": "code",
   "execution_count": null,
   "id": "409094fe",
   "metadata": {},
   "outputs": [],
   "source": []
  },
  {
   "cell_type": "markdown",
   "id": "118277ba",
   "metadata": {},
   "source": [
    "#### 4.\tWrite a Python Program to Split the array and add the first part to the end?"
   ]
  },
  {
   "cell_type": "code",
   "execution_count": null,
   "id": "2dc83c80",
   "metadata": {},
   "outputs": [],
   "source": []
  },
  {
   "cell_type": "markdown",
   "id": "a42615ac",
   "metadata": {},
   "source": [
    "#### 5.\tWrite a Python Program to check if given array is Monotonic?"
   ]
  },
  {
   "cell_type": "code",
   "execution_count": null,
   "id": "2a4342b2",
   "metadata": {},
   "outputs": [],
   "source": []
  }
 ],
 "metadata": {
  "kernelspec": {
   "display_name": "Python 3 (ipykernel)",
   "language": "python",
   "name": "python3"
  },
  "language_info": {
   "codemirror_mode": {
    "name": "ipython",
    "version": 3
   },
   "file_extension": ".py",
   "mimetype": "text/x-python",
   "name": "python",
   "nbconvert_exporter": "python",
   "pygments_lexer": "ipython3",
   "version": "3.9.12"
  }
 },
 "nbformat": 4,
 "nbformat_minor": 5
}
