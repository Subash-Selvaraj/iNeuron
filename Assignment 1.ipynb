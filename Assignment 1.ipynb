{
 "cells": [
  {
   "cell_type": "markdown",
   "id": "d3098cae",
   "metadata": {},
   "source": [
    "#### 1.\tWrite a Python program to print \"Hello Python\"?"
   ]
  },
  {
   "cell_type": "code",
   "execution_count": 4,
   "id": "e191e41a",
   "metadata": {},
   "outputs": [
    {
     "name": "stdout",
     "output_type": "stream",
     "text": [
      "\"Hello Python\"\n"
     ]
    }
   ],
   "source": [
    "print('\"Hello Python\"')"
   ]
  },
  {
   "cell_type": "markdown",
   "id": "3165f41d",
   "metadata": {},
   "source": [
    "#### 2.\tWrite a Python program to do arithmetical operations addition and division.?"
   ]
  },
  {
   "cell_type": "code",
   "execution_count": 5,
   "id": "82422594",
   "metadata": {},
   "outputs": [
    {
     "name": "stdout",
     "output_type": "stream",
     "text": [
      "Addition of a and b is 12\n",
      "Division of a and b is 3.0\n"
     ]
    }
   ],
   "source": [
    "a = 9\n",
    "b = 3\n",
    "c = a+b\n",
    "d = a/b\n",
    "print('Addition of a and b is', c)\n",
    "print('Division of a and b is', d)"
   ]
  },
  {
   "cell_type": "markdown",
   "id": "2b954111",
   "metadata": {},
   "source": [
    "#### 3.Write a Python program to find the area of a triangle?"
   ]
  },
  {
   "cell_type": "code",
   "execution_count": 3,
   "id": "db02dd4e",
   "metadata": {},
   "outputs": [
    {
     "name": "stdout",
     "output_type": "stream",
     "text": [
      "Enter x side value 5\n",
      "Enter y side value 6\n",
      "Enter z side value 7\n",
      "The area of traingle is 14.70\n"
     ]
    }
   ],
   "source": [
    "x = int(input('Enter x side value '))\n",
    "y = int(input('Enter y side value '))\n",
    "z = int(input('Enter z side value '))\n",
    "#find semi-perimeter value(s)\n",
    "s = (x+y+z)/2\n",
    "#Traingle area formula\n",
    "a = (s*(s-x)*(s-y)*(s-z))**0.5\n",
    "print('The area of traingle is %0.2f' %a)"
   ]
  },
  {
   "cell_type": "markdown",
   "id": "a8e569a7",
   "metadata": {},
   "source": [
    "#### 4.\tWrite a Python program to swap two variables?"
   ]
  },
  {
   "cell_type": "code",
   "execution_count": 7,
   "id": "6253d162",
   "metadata": {},
   "outputs": [
    {
     "name": "stdout",
     "output_type": "stream",
     "text": [
      "Value of X after swapping 6\n",
      "Value of Y after swapping 9\n"
     ]
    }
   ],
   "source": [
    "x = 9\n",
    "y = 6\n",
    "z = x\n",
    "x=y\n",
    "y=z\n",
    "print(\"Value of X after swapping\",x)\n",
    "print(\"Value of Y after swapping\",y)"
   ]
  },
  {
   "cell_type": "markdown",
   "id": "51606388",
   "metadata": {},
   "source": [
    "#### 5.\tWrite a Python program to generate a random number?"
   ]
  },
  {
   "cell_type": "code",
   "execution_count": 1,
   "id": "9f6b0a94",
   "metadata": {},
   "outputs": [
    {
     "name": "stdout",
     "output_type": "stream",
     "text": [
      "Enter starting range value 2\n",
      "Enter ending range value 5\n",
      "4\n"
     ]
    }
   ],
   "source": [
    "import random\n",
    "a = int(input(\"Enter starting range value \"))\n",
    "b = int(input(\"Enter ending range value \"))\n",
    "r = random.randint(a,b)\n",
    "print(r)"
   ]
  },
  {
   "cell_type": "code",
   "execution_count": null,
   "id": "2d31ff49",
   "metadata": {},
   "outputs": [],
   "source": []
  }
 ],
 "metadata": {
  "kernelspec": {
   "display_name": "Python 3 (ipykernel)",
   "language": "python",
   "name": "python3"
  },
  "language_info": {
   "codemirror_mode": {
    "name": "ipython",
    "version": 3
   },
   "file_extension": ".py",
   "mimetype": "text/x-python",
   "name": "python",
   "nbconvert_exporter": "python",
   "pygments_lexer": "ipython3",
   "version": "3.9.12"
  }
 },
 "nbformat": 4,
 "nbformat_minor": 5
}
