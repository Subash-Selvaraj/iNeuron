{
 "cells": [
  {
   "cell_type": "markdown",
   "id": "3cffa378",
   "metadata": {},
   "source": [
    "#### 1.\tWrite a Python Program to Find the Factorial of a Number?"
   ]
  },
  {
   "cell_type": "code",
   "execution_count": 74,
   "id": "c0329982",
   "metadata": {},
   "outputs": [
    {
     "name": "stdout",
     "output_type": "stream",
     "text": [
      "8\n",
      "8 Factorial is 40320\n"
     ]
    }
   ],
   "source": [
    "m = int(input())\n",
    "def fact(n):\n",
    "    fact = 1\n",
    "    if n==0:\n",
    "        print(\"Factorial of Zero is 1\")\n",
    "    elif n<0:\n",
    "        print(\"Please Enter the positive number\")\n",
    "    else:\n",
    "        for i in range(1,n+1):\n",
    "            fact = i*fact\n",
    "    print(n,\"Factorial is\",fact)\n",
    "fact(m)"
   ]
  },
  {
   "cell_type": "markdown",
   "id": "ee245c19",
   "metadata": {},
   "source": [
    "#### 2.\tWrite a Python Program to Display the multiplication Table?"
   ]
  },
  {
   "cell_type": "code",
   "execution_count": 75,
   "id": "de3c372d",
   "metadata": {},
   "outputs": [
    {
     "name": "stdout",
     "output_type": "stream",
     "text": [
      "Enter the tables number9\n",
      "Enter the number upto10\n",
      "9 * 1 = 9\n",
      "9 * 2 = 18\n",
      "9 * 3 = 27\n",
      "9 * 4 = 36\n",
      "9 * 5 = 45\n",
      "9 * 6 = 54\n",
      "9 * 7 = 63\n",
      "9 * 8 = 72\n",
      "9 * 9 = 81\n",
      "9 * 10 = 90\n"
     ]
    }
   ],
   "source": [
    "x = int(input(\"Enter the tables number\"))\n",
    "y = int(input(\"Enter the number upto\"))\n",
    "for i in range(1,y+1):\n",
    "    print(x,'*',i,'=', x*i)"
   ]
  },
  {
   "cell_type": "markdown",
   "id": "24552d4a",
   "metadata": {},
   "source": [
    "#### 3.\tWrite a Python Program to Print the Fibonacci sequence?"
   ]
  },
  {
   "cell_type": "code",
   "execution_count": 78,
   "id": "a1adc3f7",
   "metadata": {},
   "outputs": [
    {
     "name": "stdout",
     "output_type": "stream",
     "text": [
      "Enter the number of fib 16\n",
      "0\n",
      "1\n",
      "1\n",
      "2\n",
      "3\n",
      "5\n",
      "8\n",
      "13\n",
      "21\n",
      "34\n",
      "55\n",
      "89\n",
      "144\n",
      "233\n",
      "377\n",
      "610\n"
     ]
    }
   ],
   "source": [
    "a= int(input(\"Enter the number of fib \"))\n",
    "def fib(n):\n",
    "    n1 = 0\n",
    "    n2 = 1\n",
    "    if n<=n1:\n",
    "        print('please enter the correct value')\n",
    "    elif n==1:\n",
    "        print(\"1 factorial value is Zero\")\n",
    "    else:\n",
    "        for i in range(n):\n",
    "            print(n1)\n",
    "            n3 = n1+n2\n",
    "            n1=n2\n",
    "            n2=n3\n",
    "fib(a)"
   ]
  },
  {
   "cell_type": "markdown",
   "id": "015733ad",
   "metadata": {},
   "source": [
    "#### 4.\tWrite a Python Program to Check Armstrong Number?"
   ]
  },
  {
   "cell_type": "code",
   "execution_count": 82,
   "id": "132ab0bf",
   "metadata": {},
   "outputs": [
    {
     "name": "stdout",
     "output_type": "stream",
     "text": [
      "Enter a number: 78947\n",
      "78947 is not an Armstrong number\n"
     ]
    }
   ],
   "source": [
    "num = int(input(\"Enter a number: \"))\n",
    "sum = 0\n",
    "temp = num\n",
    "while temp > 0:\n",
    "    digit = temp % 10\n",
    "    sum += digit ** 3\n",
    "    temp //= 10\n",
    "if num == sum:\n",
    "    print(num,\"is an Armstrong number\")\n",
    "else:\n",
    "    print(num,\"is not an Armstrong number\")"
   ]
  },
  {
   "cell_type": "markdown",
   "id": "bd72e742",
   "metadata": {},
   "source": [
    "#### 5.\tWrite a Python Program to Find Armstrong Number in an Interval?"
   ]
  },
  {
   "cell_type": "code",
   "execution_count": 88,
   "id": "e6f4128c",
   "metadata": {},
   "outputs": [
    {
     "name": "stdout",
     "output_type": "stream",
     "text": [
      "200\n",
      "3000\n",
      "370\n",
      "371\n",
      "407\n",
      "1634\n"
     ]
    }
   ],
   "source": [
    "m = int(input())\n",
    "n = int(input())\n",
    "for num in range(m, n + 1):\n",
    "    order = len(str(num))\n",
    "    sum = 0\n",
    "    temp = num\n",
    "    while temp > 0:\n",
    "        digit = temp % 10\n",
    "        sum += digit ** order\n",
    "        temp //= 10\n",
    "\n",
    "    if num == sum:\n",
    "        print(num)\n"
   ]
  },
  {
   "cell_type": "markdown",
   "id": "0dc73e29",
   "metadata": {},
   "source": [
    "#### 6.\tWrite a Python Program to Find the Sum of Natural Numbers?"
   ]
  },
  {
   "cell_type": "code",
   "execution_count": 64,
   "id": "45a53a1c",
   "metadata": {},
   "outputs": [
    {
     "name": "stdout",
     "output_type": "stream",
     "text": [
      "25\n"
     ]
    },
    {
     "data": {
      "text/plain": [
       "325"
      ]
     },
     "execution_count": 64,
     "metadata": {},
     "output_type": "execute_result"
    }
   ],
   "source": [
    "m = int(input())\n",
    "def sumnaturalnum(n):\n",
    "    total = 0\n",
    "    if n>=1:\n",
    "        for i in range(1,n+1):\n",
    "            total= total+i\n",
    "        return total\n",
    "    else:\n",
    "        print('please enter the valid input')\n",
    "sumnaturalnum(m)"
   ]
  }
 ],
 "metadata": {
  "kernelspec": {
   "display_name": "Python 3 (ipykernel)",
   "language": "python",
   "name": "python3"
  },
  "language_info": {
   "codemirror_mode": {
    "name": "ipython",
    "version": 3
   },
   "file_extension": ".py",
   "mimetype": "text/x-python",
   "name": "python",
   "nbconvert_exporter": "python",
   "pygments_lexer": "ipython3",
   "version": "3.9.12"
  }
 },
 "nbformat": 4,
 "nbformat_minor": 5
}
