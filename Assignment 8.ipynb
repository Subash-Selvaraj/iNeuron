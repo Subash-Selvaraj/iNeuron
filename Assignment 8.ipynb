{
 "cells": [
  {
   "cell_type": "markdown",
   "id": "b9d6eadd",
   "metadata": {},
   "source": [
    "## 1.\tWrite a Python Program to Add Two Matrices?"
   ]
  },
  {
   "cell_type": "code",
   "execution_count": 22,
   "id": "74ed70db",
   "metadata": {},
   "outputs": [
    {
     "name": "stdout",
     "output_type": "stream",
     "text": [
      "Matrix 1\n",
      "[[3 3 4]\n",
      " [8 6 6]\n",
      " [1 9 8]]\n",
      "and\n",
      "Matrix 2\n",
      "[[2 8 9]\n",
      " [6 5 2]\n",
      " [2 3 5]]\n",
      "The sum of the two matrixes is [[ 5 11 13]\n",
      " [14 11  8]\n",
      " [ 3 12 13]]\n"
     ]
    }
   ],
   "source": [
    "#generate the 2 matrix with random numbers\n",
    "import numpy as np\n",
    "mat1 = np.random.randint(1,10,(3,3))\n",
    "mat2 = np.random.randint(1,10,(3,3))\n",
    "#printing the array\n",
    "print('Matrix 1')\n",
    "print(mat1)\n",
    "print(\"and\")\n",
    "print('Matrix 2')\n",
    "print(mat2)\n",
    "#adding the array\n",
    "summ = mat1+mat2\n",
    "print('The sum of the two matrixes is',summ)"
   ]
  },
  {
   "cell_type": "markdown",
   "id": "c27e0890",
   "metadata": {},
   "source": [
    "## 2.\tWrite a Python Program to Multiply Two Matrices?"
   ]
  },
  {
   "cell_type": "code",
   "execution_count": 23,
   "id": "e82892d0",
   "metadata": {},
   "outputs": [
    {
     "name": "stdout",
     "output_type": "stream",
     "text": [
      "Matrix 1\n",
      "[[5 1 4]\n",
      " [7 3 7]\n",
      " [8 2 2]]\n",
      "and\n",
      "Matrix 2\n",
      "[[9 4 6]\n",
      " [4 7 3]\n",
      " [1 1 7]]\n",
      "The multiplication of the two matrixes is [[45  4 24]\n",
      " [28 21 21]\n",
      " [ 8  2 14]]\n"
     ]
    }
   ],
   "source": [
    "#generate the 2 matrix with random numbers\n",
    "import numpy as np\n",
    "mat1 = np.random.randint(1,10,(3,3))\n",
    "mat2 = np.random.randint(1,10,(3,3))\n",
    "#printing the array\n",
    "print('Matrix 1')\n",
    "print(mat1)\n",
    "print(\"and\")\n",
    "print('Matrix 2')\n",
    "print(mat2)\n",
    "#adding the array\n",
    "summ = mat1*mat2\n",
    "print('The multiplication of the two matrixes is',summ)"
   ]
  },
  {
   "cell_type": "markdown",
   "id": "94b27418",
   "metadata": {},
   "source": [
    "## 3.\tWrite a Python Program to Transpose a Matrix?"
   ]
  },
  {
   "cell_type": "code",
   "execution_count": 31,
   "id": "812dc699",
   "metadata": {},
   "outputs": [
    {
     "name": "stdout",
     "output_type": "stream",
     "text": [
      "The matrix is \n",
      "[[5 1 4]\n",
      " [7 3 7]\n",
      " [8 2 2]]\n",
      "The transpose of the given matrix is [[5 7 8]\n",
      " [1 3 2]\n",
      " [4 7 2]]\n"
     ]
    }
   ],
   "source": [
    "matrix=mat1\n",
    "print('The matrix is ')\n",
    "print(matrix)\n",
    "def transpose(a):\n",
    "    return a.T\n",
    "print('The transpose of the given matrix is',transpose(matrix))"
   ]
  },
  {
   "cell_type": "markdown",
   "id": "3146849f",
   "metadata": {},
   "source": [
    "## 4.\tWrite a Python Program to Sort Words in Alphabetic Order?"
   ]
  },
  {
   "cell_type": "code",
   "execution_count": 9,
   "id": "206e7148",
   "metadata": {},
   "outputs": [
    {
     "name": "stdout",
     "output_type": "stream",
     "text": [
      "Enter a string: i am suabsh\n",
      "am\n",
      "i\n",
      "suabsh\n"
     ]
    }
   ],
   "source": [
    "my_str = input(\"Enter a string: \")  \n",
    "words = my_str.split() \n",
    "def sorted(s):\n",
    "    words.sort()  \n",
    "    for word in words:\n",
    "        print(word)\n",
    "sorted(words)"
   ]
  },
  {
   "cell_type": "markdown",
   "id": "3f412222",
   "metadata": {},
   "source": [
    "## 5.\tWrite a Python Program to Remove Punctuation From a String?"
   ]
  },
  {
   "cell_type": "code",
   "execution_count": 12,
   "id": "72d6a8be",
   "metadata": {},
   "outputs": [
    {
     "name": "stdout",
     "output_type": "stream",
     "text": [
      "Enter a string: hi, i am subash.and this is my  8th assignment\n",
      "hi i am subashand this is my  8th assignment\n"
     ]
    }
   ],
   "source": [
    "punctuation = '''''!()-[]{};:'\"\\,<>./?@#$%^&*_~'''  \n",
    "my_str = input(\"Enter a string: \")  \n",
    "no_punct = \"\"  \n",
    "for char in my_str:  \n",
    "    if char not in punctuation:  \n",
    "        no_punct = no_punct + char  \n",
    "print(no_punct)  \n"
   ]
  }
 ],
 "metadata": {
  "kernelspec": {
   "display_name": "Python 3 (ipykernel)",
   "language": "python",
   "name": "python3"
  },
  "language_info": {
   "codemirror_mode": {
    "name": "ipython",
    "version": 3
   },
   "file_extension": ".py",
   "mimetype": "text/x-python",
   "name": "python",
   "nbconvert_exporter": "python",
   "pygments_lexer": "ipython3",
   "version": "3.9.12"
  }
 },
 "nbformat": 4,
 "nbformat_minor": 5
}
